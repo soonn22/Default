{
 "cells": [
  {
   "attachments": {
    "COUR_IPO.png": {
     "image/png": "[encoded data removed]"
    }
   },
   "cell_type": "markdown",
   "metadata": {},
   "source": [
    "![COUR_IPO.png](attachment:COUR_IPO.png)"
   ]
  },
  {
   "cell_type": "markdown",
   "metadata": {},
   "source": [
    "# Welcome to the Data Science Coding Challange!\n",
    "\n",
    "Test your skills in a real-world coding challenge. Coding Challenges provide CS & DS Coding Competitions with Prizes and achievement badges!\n",
    "\n",
    "CS & DS learners want to be challenged as a way to evaluate if they’re job ready. So, why not create fun challenges and give winners something truly valuable such as complimentary access to select Data Science courses, or the ability to receive an achievement badge on their Coursera Skills Profile - highlighting their performance to recruiters."
   ]
  },
  {
   "cell_type": "markdown",
   "metadata": {},
   "source": [
    "## Introduction\n",
    "\n",
    "In this challenge, you'll get the opportunity to tackle one of the most industry-relevant machine learning problems with a unique dataset that will put your modeling skills to the test. Financial loan services are leveraged by companies across many industries, from big banks to financial institutions to government loans. One of the primary objectives of companies with financial loan services is to decrease payment defaults and ensure that individuals are paying back their loans as expected. In order to do this efficiently and systematically, many companies employ machine learning to predict which individuals are at the highest risk of defaulting on their loans, so that proper interventions can be effectively deployed to the right audience.\n",
    "\n",
    "In this challenge, we will be tackling the loan default prediction problem on a very unique and interesting group of individuals who have taken financial loans. \n",
    "\n",
    "Imagine that you are a new data scientist at a major financial institution and you are tasked with building a model that can predict which individuals will default on their loan payments. We have provided a dataset that is a sample of individuals who received loans in 2021. \n",
    "\n",
    "This financial institution has a vested interest in understanding the likelihood of each individual to default on their loan payments so that resources can be allocated appropriately to support these borrowers. In this challenge, you will use your machine learning toolkit to do just that!"
   ]
  },
  {
   "cell_type": "markdown",
   "metadata": {},
   "source": [
    "## Understanding the Datasets"
   ]
  },
  {
   "cell_type": "markdown",
   "metadata": {},
   "source": [
    "### Train vs. Test\n",
    "In this competition, you’ll gain access to two datasets that are samples of past borrowers of a financial institution that contain information about the individual and the specific loan. One dataset is titled `train.csv` and the other is titled `test.csv`.\n",
    "\n",
    "`train.csv` contains 70% of the overall sample (255,347 borrowers to be exact) and importantly, will reveal whether or not the borrower has defaulted on their loan payments (the “ground truth”).\n",
    "\n",
    "The `test.csv` dataset contains the exact same information about the remaining segment of the overall sample (109,435 borrowers to be exact), but does not disclose the “ground truth” for each borrower. It’s your job to predict this outcome!\n",
    "\n",
    "Using the patterns you find in the `train.csv` data, predict whether the borrowers in `test.csv` will default on their loan payments, or not."
   ]
  },
  {
   "cell_type": "markdown",
   "metadata": {},
   "source": [
    "### Dataset descriptions\n",
    "Both `train.csv` and `test.csv` contain one row for each unique Loan. For each Loan, a single observation (`LoanID`) is included during which the loan was active. \n",
    "\n",
    "In addition to this identifier column, the `train.csv` dataset also contains the target label for the task, a binary column `Default` which indicates if a borrower has defaulted on payments.\n",
    "\n",
    "Besides that column, both datasets have an identical set of features that can be used to train your model to make predictions. Below you can see descriptions of each feature. Familiarize yourself with them so that you can harness them most effectively for this machine learning task!"
   ]
  },
  {
   "cell_type": "code",
   "execution_count": 1,
   "metadata": {},
   "outputs": [
    {
     "data": {
      "text/html": [
       "<div>\n",
       "<style scoped>\n",
       "    .dataframe tbody tr th:only-of-type {\n",
       "        vertical-align: middle;\n",
       "    }\n",
       "\n",
       "    .dataframe tbody tr th {\n",
       "        vertical-align: top;\n",
       "    }\n",
       "\n",
       "    .dataframe thead th {\n",
       "        text-align: right;\n",
       "    }\n",
       "</style>\n",
       "<table border=\"1\" class=\"dataframe\">\n",
       "  <thead>\n",
       "    <tr style=\"text-align: right;\">\n",
       "      <th></th>\n",
       "      <th>Column_name</th>\n",
       "      <th>Column_type</th>\n",
       "      <th>Data_type</th>\n",
       "      <th>Description</th>\n",
       "    </tr>\n",
       "  </thead>\n",
       "  <tbody>\n",
       "    <tr>\n",
       "      <th>0</th>\n",
       "      <td>LoanID</td>\n",
       "      <td>Identifier</td>\n",
       "      <td>string</td>\n",
       "      <td>A unique identifier for each loan.</td>\n",
       "    </tr>\n",
       "    <tr>\n",
       "      <th>1</th>\n",
       "      <td>Age</td>\n",
       "      <td>Feature</td>\n",
       "      <td>integer</td>\n",
       "      <td>The age of the borrower.</td>\n",
       "    </tr>\n",
       "    <tr>\n",
       "      <th>2</th>\n",
       "      <td>Income</td>\n",
       "      <td>Feature</td>\n",
       "      <td>integer</td>\n",
       "      <td>The annual income of the borrower.</td>\n",
       "    </tr>\n",
       "    <tr>\n",
       "      <th>3</th>\n",
       "      <td>LoanAmount</td>\n",
       "      <td>Feature</td>\n",
       "      <td>integer</td>\n",
       "      <td>The amount of money being borrowed.</td>\n",
       "    </tr>\n",
       "    <tr>\n",
       "      <th>4</th>\n",
       "      <td>CreditScore</td>\n",
       "      <td>Feature</td>\n",
       "      <td>integer</td>\n",
       "      <td>The credit score of the borrower, indicating their creditworthiness.</td>\n",
       "    </tr>\n",
       "    <tr>\n",
       "      <th>5</th>\n",
       "      <td>MonthsEmployed</td>\n",
       "      <td>Feature</td>\n",
       "      <td>integer</td>\n",
       "      <td>The number of months the borrower has been employed.</td>\n",
       "    </tr>\n",
       "    <tr>\n",
       "      <th>6</th>\n",
       "      <td>NumCreditLines</td>\n",
       "      <td>Feature</td>\n",
       "      <td>integer</td>\n",
       "      <td>The number of credit lines the borrower has open.</td>\n",
       "    </tr>\n",
       "    <tr>\n",
       "      <th>7</th>\n",
       "      <td>InterestRate</td>\n",
       "      <td>Feature</td>\n",
       "      <td>float</td>\n",
       "      <td>The interest rate for the loan.</td>\n",
       "    </tr>\n",
       "    <tr>\n",
       "      <th>8</th>\n",
       "      <td>LoanTerm</td>\n",
       "      <td>Feature</td>\n",
       "      <td>integer</td>\n",
       "      <td>The term length of the loan in months.</td>\n",
       "    </tr>\n",
       "    <tr>\n",
       "      <th>9</th>\n",
       "      <td>DTIRatio</td>\n",
       "      <td>Feature</td>\n",
       "      <td>float</td>\n",
       "      <td>The Debt-to-Income ratio, indicating the borrower's debt compared to their income.</td>\n",
       "    </tr>\n",
       "    <tr>\n",
       "      <th>10</th>\n",
       "      <td>Education</td>\n",
       "      <td>Feature</td>\n",
       "      <td>string</td>\n",
       "      <td>The highest level of education attained by the borrower (PhD, Master's, Bachelor's, High School).</td>\n",
       "    </tr>\n",
       "    <tr>\n",
       "      <th>11</th>\n",
       "      <td>EmploymentType</td>\n",
       "      <td>Feature</td>\n",
       "      <td>string</td>\n",
       "      <td>The type of employment status of the borrower (Full-time, Part-time, Self-employed, Unemployed).</td>\n",
       "    </tr>\n",
       "    <tr>\n",
       "      <th>12</th>\n",
       "      <td>MaritalStatus</td>\n",
       "      <td>Feature</td>\n",
       "      <td>string</td>\n",
       "      <td>The marital status of the borrower (Single, Married, Divorced).</td>\n",
       "    </tr>\n",
       "    <tr>\n",
       "      <th>13</th>\n",
       "      <td>HasMortgage</td>\n",
       "      <td>Feature</td>\n",
       "      <td>string</td>\n",
       "      <td>Whether the borrower has a mortgage (Yes or No).</td>\n",
       "    </tr>\n",
       "    <tr>\n",
       "      <th>14</th>\n",
       "      <td>HasDependents</td>\n",
       "      <td>Feature</td>\n",
       "      <td>string</td>\n",
       "      <td>Whether the borrower has dependents (Yes or No).</td>\n",
       "    </tr>\n",
       "    <tr>\n",
       "      <th>15</th>\n",
       "      <td>LoanPurpose</td>\n",
       "      <td>Feature</td>\n",
       "      <td>string</td>\n",
       "      <td>The purpose of the loan (Home, Auto, Education, Business, Other).</td>\n",
       "    </tr>\n",
       "    <tr>\n",
       "      <th>16</th>\n",
       "      <td>HasCoSigner</td>\n",
       "      <td>Feature</td>\n",
       "      <td>string</td>\n",
       "      <td>Whether the loan has a co-signer (Yes or No).</td>\n",
       "    </tr>\n",
       "    <tr>\n",
       "      <th>17</th>\n",
       "      <td>Default</td>\n",
       "      <td>Target</td>\n",
       "      <td>integer</td>\n",
       "      <td>The binary target variable indicating whether the loan defaulted (1) or not (0).</td>\n",
       "    </tr>\n",
       "  </tbody>\n",
       "</table>\n",
       "</div>"
      ],
      "text/plain": [
       "       Column_name Column_type Data_type  \\\n",
       "0           LoanID  Identifier    string   \n",
       "1              Age     Feature   integer   \n",
       "2           Income     Feature   integer   \n",
       "3       LoanAmount     Feature   integer   \n",
       "4      CreditScore     Feature   integer   \n",
       "5   MonthsEmployed     Feature   integer   \n",
       "6   NumCreditLines     Feature   integer   \n",
       "7     InterestRate     Feature     float   \n",
       "8         LoanTerm     Feature   integer   \n",
       "9         DTIRatio     Feature     float   \n",
       "10       Education     Feature    string   \n",
       "11  EmploymentType     Feature    string   \n",
       "12   MaritalStatus     Feature    string   \n",
       "13     HasMortgage     Feature    string   \n",
       "14   HasDependents     Feature    string   \n",
       "15     LoanPurpose     Feature    string   \n",
       "16     HasCoSigner     Feature    string   \n",
       "17         Default      Target   integer   \n",
       "\n",
       "                                                                                          Description  \n",
       "0                                                                  A unique identifier for each loan.  \n",
       "1                                                                            The age of the borrower.  \n",
       "2                                                                  The annual income of the borrower.  \n",
       "3                                                                 The amount of money being borrowed.  \n",
       "4                                The credit score of the borrower, indicating their creditworthiness.  \n",
       "5                                                The number of months the borrower has been employed.  \n",
       "6                                                   The number of credit lines the borrower has open.  \n",
       "7                                                                     The interest rate for the loan.  \n",
       "8                                                              The term length of the loan in months.  \n",
       "9                  The Debt-to-Income ratio, indicating the borrower's debt compared to their income.  \n",
       "10  The highest level of education attained by the borrower (PhD, Master's, Bachelor's, High School).  \n",
       "11   The type of employment status of the borrower (Full-time, Part-time, Self-employed, Unemployed).  \n",
       "12                                    The marital status of the borrower (Single, Married, Divorced).  \n",
       "13                                                   Whether the borrower has a mortgage (Yes or No).  \n",
       "14                                                   Whether the borrower has dependents (Yes or No).  \n",
       "15                                  The purpose of the loan (Home, Auto, Education, Business, Other).  \n",
       "16                                                      Whether the loan has a co-signer (Yes or No).  \n",
       "17                   The binary target variable indicating whether the loan defaulted (1) or not (0).  "
      ]
     },
     "execution_count": 1,
     "metadata": {},
     "output_type": "execute_result"
    }
   ],
   "source": [
    "import pandas as pd\n",
    "data_descriptions = pd.read_csv('data_descriptions.csv')\n",
    "pd.set_option('display.max_colwidth', None)\n",
    "data_descriptions"
   ]
  },
  {
   "cell_type": "markdown",
   "metadata": {},
   "source": [
    "## How to Submit your Predictions to Coursera\n",
    "Submission Format:\n",
    "\n",
    "In this notebook you should follow the steps below to explore the data, train a model using the data in `train.csv`, and then score your model using the data in `test.csv`. Your final submission should be a dataframe (call it `prediction_df` with two columns and exactly 109,435 rows (plus a header row). The first column should be `LoanID` so that we know which prediction belongs to which observation. The second column should be called `predicted_probability` and should be a numeric column representing the __likelihood that the borrower will default__.\n",
    "\n",
    "Your submission will show an error if you have extra columns (beyond `LoanID` and `predicted_probability`) or extra rows. The order of the rows does not matter.\n",
    "\n",
    "The naming convention of the dataframe and columns are critical for our autograding, so please make sure to use the exact naming conventions of `prediction_df` with column names `LoanID` and `predicted_probability`!\n",
    "\n",
    "To determine your final score, we will compare your `predicted_probability` predictions to the source of truth labels for the observations in `test.csv` and calculate the [ROC AUC](https://scikit-learn.org/stable/modules/generated/sklearn.metrics.roc_auc_score.html). We choose this metric because we not only want to be able to predict which loans will default, but also want a well-calibrated likelihood score that can be used to target interventions and support most accurately."
   ]
  },
  {
   "cell_type": "markdown",
   "metadata": {},
   "source": [
    "## Import Python Modules\n",
    "\n",
    "First, import the primary modules that will be used in this project. Remember as this is an open-ended project please feel free to make use of any of your favorite libraries that you feel may be useful for this challenge. For example some of the following popular packages may be useful:\n",
    "\n",
    "- pandas\n",
    "- numpy\n",
    "- Scipy\n",
    "- Scikit-learn\n",
    "- keras\n",
    "- maplotlib\n",
    "- seaborn\n",
    "- etc, etc"
   ]
  },
  {
   "cell_type": "code",
   "execution_count": 2,
   "metadata": {},
   "outputs": [],
   "source": [
    "# Import required packages\n",
    "\n",
    "# Data packages\n",
    "import pandas as pd\n",
    "import numpy as np\n",
    "\n",
    "# Machine Learning / Classification packages\n",
    "from sklearn.metrics import roc_auc_score\n",
    "from sklearn.model_selection import train_test_split\n",
    "from sklearn.dummy import DummyClassifier\n",
    "\n",
    "# Visualization Packages\n",
    "from matplotlib import pyplot as plt\n",
    "import seaborn as sns\n",
    "%matplotlib inline"
   ]
  },
  {
   "cell_type": "code",
   "execution_count": 3,
   "metadata": {},
   "outputs": [
    {
     "name": "stdout",
     "output_type": "stream",
     "text": [
      "Requirement already satisfied: xgboost in /opt/conda/lib/python3.7/site-packages (1.6.2)\n",
      "Requirement already satisfied: numpy in /opt/conda/lib/python3.7/site-packages (from xgboost) (1.18.4)\n",
      "Requirement already satisfied: scipy in /opt/conda/lib/python3.7/site-packages (from xgboost) (1.4.1)\n",
      "\n",
      "\u001b[1m[\u001b[0m\u001b[34;49mnotice\u001b[0m\u001b[1;39;49m]\u001b[0m\u001b[39;49m A new release of pip is available: \u001b[0m\u001b[31;49m23.2.1\u001b[0m\u001b[39;49m -> \u001b[0m\u001b[32;49m24.0\u001b[0m\n",
      "\u001b[1m[\u001b[0m\u001b[34;49mnotice\u001b[0m\u001b[1;39;49m]\u001b[0m\u001b[39;49m To update, run: \u001b[0m\u001b[32;49mpip install --upgrade pip\u001b[0m\n"
     ]
    }
   ],
   "source": [
    "# Import any other packages you may want to use\n",
    "import math\n",
    "!pip install xgboost"
   ]
  },
  {
   "cell_type": "markdown",
   "metadata": {},
   "source": [
    "## Load the Data\n",
    "\n",
    "Let's start by loading the dataset `train.csv` into a dataframe `train_df`, and `test.csv` into a dataframe `test_df` and display the shape of the dataframes."
   ]
  },
  {
   "cell_type": "code",
   "execution_count": 4,
   "metadata": {},
   "outputs": [
    {
     "name": "stdout",
     "output_type": "stream",
     "text": [
      "train_df Shape: (255347, 18)\n"
     ]
    },
    {
     "data": {
      "text/html": [
       "<div>\n",
       "<style scoped>\n",
       "    .dataframe tbody tr th:only-of-type {\n",
       "        vertical-align: middle;\n",
       "    }\n",
       "\n",
       "    .dataframe tbody tr th {\n",
       "        vertical-align: top;\n",
       "    }\n",
       "\n",
       "    .dataframe thead th {\n",
       "        text-align: right;\n",
       "    }\n",
       "</style>\n",
       "<table border=\"1\" class=\"dataframe\">\n",
       "  <thead>\n",
       "    <tr style=\"text-align: right;\">\n",
       "      <th></th>\n",
       "      <th>LoanID</th>\n",
       "      <th>Age</th>\n",
       "      <th>Income</th>\n",
       "      <th>LoanAmount</th>\n",
       "      <th>CreditScore</th>\n",
       "      <th>MonthsEmployed</th>\n",
       "      <th>NumCreditLines</th>\n",
       "      <th>InterestRate</th>\n",
       "      <th>LoanTerm</th>\n",
       "      <th>DTIRatio</th>\n",
       "      <th>Education</th>\n",
       "      <th>EmploymentType</th>\n",
       "      <th>MaritalStatus</th>\n",
       "      <th>HasMortgage</th>\n",
       "      <th>HasDependents</th>\n",
       "      <th>LoanPurpose</th>\n",
       "      <th>HasCoSigner</th>\n",
       "      <th>Default</th>\n",
       "    </tr>\n",
       "  </thead>\n",
       "  <tbody>\n",
       "    <tr>\n",
       "      <th>0</th>\n",
       "      <td>I38PQUQS96</td>\n",
       "      <td>56</td>\n",
       "      <td>85994</td>\n",
       "      <td>50587</td>\n",
       "      <td>520</td>\n",
       "      <td>80</td>\n",
       "      <td>4</td>\n",
       "      <td>15.23</td>\n",
       "      <td>36</td>\n",
       "      <td>0.44</td>\n",
       "      <td>Bachelor's</td>\n",
       "      <td>Full-time</td>\n",
       "      <td>Divorced</td>\n",
       "      <td>Yes</td>\n",
       "      <td>Yes</td>\n",
       "      <td>Other</td>\n",
       "      <td>Yes</td>\n",
       "      <td>0</td>\n",
       "    </tr>\n",
       "    <tr>\n",
       "      <th>1</th>\n",
       "      <td>HPSK72WA7R</td>\n",
       "      <td>69</td>\n",
       "      <td>50432</td>\n",
       "      <td>124440</td>\n",
       "      <td>458</td>\n",
       "      <td>15</td>\n",
       "      <td>1</td>\n",
       "      <td>4.81</td>\n",
       "      <td>60</td>\n",
       "      <td>0.68</td>\n",
       "      <td>Master's</td>\n",
       "      <td>Full-time</td>\n",
       "      <td>Married</td>\n",
       "      <td>No</td>\n",
       "      <td>No</td>\n",
       "      <td>Other</td>\n",
       "      <td>Yes</td>\n",
       "      <td>0</td>\n",
       "    </tr>\n",
       "    <tr>\n",
       "      <th>2</th>\n",
       "      <td>C1OZ6DPJ8Y</td>\n",
       "      <td>46</td>\n",
       "      <td>84208</td>\n",
       "      <td>129188</td>\n",
       "      <td>451</td>\n",
       "      <td>26</td>\n",
       "      <td>3</td>\n",
       "      <td>21.17</td>\n",
       "      <td>24</td>\n",
       "      <td>0.31</td>\n",
       "      <td>Master's</td>\n",
       "      <td>Unemployed</td>\n",
       "      <td>Divorced</td>\n",
       "      <td>Yes</td>\n",
       "      <td>Yes</td>\n",
       "      <td>Auto</td>\n",
       "      <td>No</td>\n",
       "      <td>1</td>\n",
       "    </tr>\n",
       "    <tr>\n",
       "      <th>3</th>\n",
       "      <td>V2KKSFM3UN</td>\n",
       "      <td>32</td>\n",
       "      <td>31713</td>\n",
       "      <td>44799</td>\n",
       "      <td>743</td>\n",
       "      <td>0</td>\n",
       "      <td>3</td>\n",
       "      <td>7.07</td>\n",
       "      <td>24</td>\n",
       "      <td>0.23</td>\n",
       "      <td>High School</td>\n",
       "      <td>Full-time</td>\n",
       "      <td>Married</td>\n",
       "      <td>No</td>\n",
       "      <td>No</td>\n",
       "      <td>Business</td>\n",
       "      <td>No</td>\n",
       "      <td>0</td>\n",
       "    </tr>\n",
       "    <tr>\n",
       "      <th>4</th>\n",
       "      <td>EY08JDHTZP</td>\n",
       "      <td>60</td>\n",
       "      <td>20437</td>\n",
       "      <td>9139</td>\n",
       "      <td>633</td>\n",
       "      <td>8</td>\n",
       "      <td>4</td>\n",
       "      <td>6.51</td>\n",
       "      <td>48</td>\n",
       "      <td>0.73</td>\n",
       "      <td>Bachelor's</td>\n",
       "      <td>Unemployed</td>\n",
       "      <td>Divorced</td>\n",
       "      <td>No</td>\n",
       "      <td>Yes</td>\n",
       "      <td>Auto</td>\n",
       "      <td>No</td>\n",
       "      <td>0</td>\n",
       "    </tr>\n",
       "  </tbody>\n",
       "</table>\n",
       "</div>"
      ],
      "text/plain": [
       "       LoanID  Age  Income  LoanAmount  CreditScore  MonthsEmployed  \\\n",
       "0  I38PQUQS96   56   85994       50587          520              80   \n",
       "1  HPSK72WA7R   69   50432      124440          458              15   \n",
       "2  C1OZ6DPJ8Y   46   84208      129188          451              26   \n",
       "3  V2KKSFM3UN   32   31713       44799          743               0   \n",
       "4  EY08JDHTZP   60   20437        9139          633               8   \n",
       "\n",
       "   NumCreditLines  InterestRate  LoanTerm  DTIRatio    Education  \\\n",
       "0               4         15.23        36      0.44   Bachelor's   \n",
       "1               1          4.81        60      0.68     Master's   \n",
       "2               3         21.17        24      0.31     Master's   \n",
       "3               3          7.07        24      0.23  High School   \n",
       "4               4          6.51        48      0.73   Bachelor's   \n",
       "\n",
       "  EmploymentType MaritalStatus HasMortgage HasDependents LoanPurpose  \\\n",
       "0      Full-time      Divorced         Yes           Yes       Other   \n",
       "1      Full-time       Married          No            No       Other   \n",
       "2     Unemployed      Divorced         Yes           Yes        Auto   \n",
       "3      Full-time       Married          No            No    Business   \n",
       "4     Unemployed      Divorced          No           Yes        Auto   \n",
       "\n",
       "  HasCoSigner  Default  \n",
       "0         Yes        0  \n",
       "1         Yes        0  \n",
       "2          No        1  \n",
       "3          No        0  \n",
       "4          No        0  "
      ]
     },
     "execution_count": 4,
     "metadata": {},
     "output_type": "execute_result"
    }
   ],
   "source": [
    "train_df = pd.read_csv(\"train.csv\")\n",
    "print('train_df Shape:', train_df.shape)\n",
    "train_df.head()"
   ]
  },
  {
   "cell_type": "code",
   "execution_count": 5,
   "metadata": {},
   "outputs": [
    {
     "name": "stdout",
     "output_type": "stream",
     "text": [
      "test_df Shape: (109435, 17)\n"
     ]
    },
    {
     "data": {
      "text/html": [
       "<div>\n",
       "<style scoped>\n",
       "    .dataframe tbody tr th:only-of-type {\n",
       "        vertical-align: middle;\n",
       "    }\n",
       "\n",
       "    .dataframe tbody tr th {\n",
       "        vertical-align: top;\n",
       "    }\n",
       "\n",
       "    .dataframe thead th {\n",
       "        text-align: right;\n",
       "    }\n",
       "</style>\n",
       "<table border=\"1\" class=\"dataframe\">\n",
       "  <thead>\n",
       "    <tr style=\"text-align: right;\">\n",
       "      <th></th>\n",
       "      <th>LoanID</th>\n",
       "      <th>Age</th>\n",
       "      <th>Income</th>\n",
       "      <th>LoanAmount</th>\n",
       "      <th>CreditScore</th>\n",
       "      <th>MonthsEmployed</th>\n",
       "      <th>NumCreditLines</th>\n",
       "      <th>InterestRate</th>\n",
       "      <th>LoanTerm</th>\n",
       "      <th>DTIRatio</th>\n",
       "      <th>Education</th>\n",
       "      <th>EmploymentType</th>\n",
       "      <th>MaritalStatus</th>\n",
       "      <th>HasMortgage</th>\n",
       "      <th>HasDependents</th>\n",
       "      <th>LoanPurpose</th>\n",
       "      <th>HasCoSigner</th>\n",
       "    </tr>\n",
       "  </thead>\n",
       "  <tbody>\n",
       "    <tr>\n",
       "      <th>0</th>\n",
       "      <td>7RYZGMKJIR</td>\n",
       "      <td>32</td>\n",
       "      <td>131645</td>\n",
       "      <td>43797</td>\n",
       "      <td>802</td>\n",
       "      <td>23</td>\n",
       "      <td>2</td>\n",
       "      <td>6.10</td>\n",
       "      <td>24</td>\n",
       "      <td>0.13</td>\n",
       "      <td>High School</td>\n",
       "      <td>Full-time</td>\n",
       "      <td>Divorced</td>\n",
       "      <td>Yes</td>\n",
       "      <td>No</td>\n",
       "      <td>Other</td>\n",
       "      <td>No</td>\n",
       "    </tr>\n",
       "    <tr>\n",
       "      <th>1</th>\n",
       "      <td>JDL5RH07AM</td>\n",
       "      <td>61</td>\n",
       "      <td>134312</td>\n",
       "      <td>18402</td>\n",
       "      <td>369</td>\n",
       "      <td>87</td>\n",
       "      <td>2</td>\n",
       "      <td>12.99</td>\n",
       "      <td>60</td>\n",
       "      <td>0.59</td>\n",
       "      <td>High School</td>\n",
       "      <td>Self-employed</td>\n",
       "      <td>Single</td>\n",
       "      <td>No</td>\n",
       "      <td>No</td>\n",
       "      <td>Business</td>\n",
       "      <td>Yes</td>\n",
       "    </tr>\n",
       "    <tr>\n",
       "      <th>2</th>\n",
       "      <td>STAL716Y79</td>\n",
       "      <td>55</td>\n",
       "      <td>115809</td>\n",
       "      <td>151774</td>\n",
       "      <td>563</td>\n",
       "      <td>3</td>\n",
       "      <td>3</td>\n",
       "      <td>5.51</td>\n",
       "      <td>48</td>\n",
       "      <td>0.82</td>\n",
       "      <td>Bachelor's</td>\n",
       "      <td>Full-time</td>\n",
       "      <td>Single</td>\n",
       "      <td>Yes</td>\n",
       "      <td>Yes</td>\n",
       "      <td>Other</td>\n",
       "      <td>Yes</td>\n",
       "    </tr>\n",
       "    <tr>\n",
       "      <th>3</th>\n",
       "      <td>SO0KKJ3IQB</td>\n",
       "      <td>58</td>\n",
       "      <td>94970</td>\n",
       "      <td>55789</td>\n",
       "      <td>337</td>\n",
       "      <td>24</td>\n",
       "      <td>1</td>\n",
       "      <td>23.93</td>\n",
       "      <td>36</td>\n",
       "      <td>0.77</td>\n",
       "      <td>Bachelor's</td>\n",
       "      <td>Unemployed</td>\n",
       "      <td>Divorced</td>\n",
       "      <td>No</td>\n",
       "      <td>No</td>\n",
       "      <td>Business</td>\n",
       "      <td>No</td>\n",
       "    </tr>\n",
       "    <tr>\n",
       "      <th>4</th>\n",
       "      <td>T99CWTYDCP</td>\n",
       "      <td>63</td>\n",
       "      <td>71727</td>\n",
       "      <td>189798</td>\n",
       "      <td>451</td>\n",
       "      <td>52</td>\n",
       "      <td>3</td>\n",
       "      <td>22.05</td>\n",
       "      <td>48</td>\n",
       "      <td>0.44</td>\n",
       "      <td>PhD</td>\n",
       "      <td>Unemployed</td>\n",
       "      <td>Single</td>\n",
       "      <td>Yes</td>\n",
       "      <td>No</td>\n",
       "      <td>Auto</td>\n",
       "      <td>No</td>\n",
       "    </tr>\n",
       "  </tbody>\n",
       "</table>\n",
       "</div>"
      ],
      "text/plain": [
       "       LoanID  Age  Income  LoanAmount  CreditScore  MonthsEmployed  \\\n",
       "0  7RYZGMKJIR   32  131645       43797          802              23   \n",
       "1  JDL5RH07AM   61  134312       18402          369              87   \n",
       "2  STAL716Y79   55  115809      151774          563               3   \n",
       "3  SO0KKJ3IQB   58   94970       55789          337              24   \n",
       "4  T99CWTYDCP   63   71727      189798          451              52   \n",
       "\n",
       "   NumCreditLines  InterestRate  LoanTerm  DTIRatio    Education  \\\n",
       "0               2          6.10        24      0.13  High School   \n",
       "1               2         12.99        60      0.59  High School   \n",
       "2               3          5.51        48      0.82   Bachelor's   \n",
       "3               1         23.93        36      0.77   Bachelor's   \n",
       "4               3         22.05        48      0.44          PhD   \n",
       "\n",
       "  EmploymentType MaritalStatus HasMortgage HasDependents LoanPurpose  \\\n",
       "0      Full-time      Divorced         Yes            No       Other   \n",
       "1  Self-employed        Single          No            No    Business   \n",
       "2      Full-time        Single         Yes           Yes       Other   \n",
       "3     Unemployed      Divorced          No            No    Business   \n",
       "4     Unemployed        Single         Yes            No        Auto   \n",
       "\n",
       "  HasCoSigner  \n",
       "0          No  \n",
       "1         Yes  \n",
       "2         Yes  \n",
       "3          No  \n",
       "4          No  "
      ]
     },
     "execution_count": 5,
     "metadata": {},
     "output_type": "execute_result"
    }
   ],
   "source": [
    "test_df = pd.read_csv(\"test.csv\")\n",
    "print('test_df Shape:', test_df.shape)\n",
    "test_df.head()"
   ]
  },
  {
   "cell_type": "markdown",
   "metadata": {},
   "source": [
    "## Explore, Clean, Validate, and Visualize the Data (optional)\n",
    "\n",
    "Feel free to explore, clean, validate, and visualize the data however you see fit for this competition to help determine or optimize your predictive model. Please note - the final autograding will only be on the accuracy of the `prediction_df` predictions."
   ]
  },
  {
   "cell_type": "code",
   "execution_count": 6,
   "metadata": {},
   "outputs": [
    {
     "data": {
      "image/png": "[encoded data removed]",
      "text/plain": [
       "<Figure size 432x288 with 1 Axes>"
      ]
     },
     "metadata": {
      "needs_background": "light"
     },
     "output_type": "display_data"
    },
    {
     "data": {
      "image/png": "[encoded data removed]",
      "text/plain": [
       "<Figure size 432x288 with 1 Axes>"
      ]
     },
     "metadata": {
      "needs_background": "light"
     },
     "output_type": "display_data"
    },
    {
     "data": {
      "image/png": "[encoded data removed]",
      "text/plain": [
       "<Figure size 432x288 with 1 Axes>"
      ]
     },
     "metadata": {
      "needs_background": "light"
     },
     "output_type": "display_data"
    },
    {
     "data": {
      "image/png": "[encoded data removed]",
      "text/plain": [
       "<Figure size 432x288 with 1 Axes>"
      ]
     },
     "metadata": {
      "needs_background": "light"
     },
     "output_type": "display_data"
    },
    {
     "data": {
      "image/png": "[encoded data removed]",
      "text/plain": [
       "<Figure size 432x288 with 1 Axes>"
      ]
     },
     "metadata": {
      "needs_background": "light"
     },
     "output_type": "display_data"
    },
    {
     "data": {
      "image/png": "[encoded data removed]",
      "text/plain": [
       "<Figure size 432x288 with 1 Axes>"
      ]
     },
     "metadata": {
      "needs_background": "light"
     },
     "output_type": "display_data"
    },
    {
     "data": {
      "image/png": "[encoded data removed]",
      "text/plain": [
       "<Figure size 432x288 with 1 Axes>"
      ]
     },
     "metadata": {
      "needs_background": "light"
     },
     "output_type": "display_data"
    },
    {
     "data": {
      "image/png": "[encoded data removed]",
      "text/plain": [
       "<Figure size 432x288 with 1 Axes>"
      ]
     },
     "metadata": {
      "needs_background": "light"
     },
     "output_type": "display_data"
    },
    {
     "data": {
      "image/png": "[encoded data removed]",
      "text/plain": [
       "<Figure size 432x288 with 1 Axes>"
      ]
     },
     "metadata": {
      "needs_background": "light"
     },
     "output_type": "display_data"
    },
    {
     "data": {
      "image/png": "[encoded data removed]",
      "text/plain": [
       "<Figure size 432x288 with 1 Axes>"
      ]
     },
     "metadata": {
      "needs_background": "light"
     },
     "output_type": "display_data"
    },
    {
     "data": {
      "text/html": [
       "<div>\n",
       "<style scoped>\n",
       "    .dataframe tbody tr th:only-of-type {\n",
       "        vertical-align: middle;\n",
       "    }\n",
       "\n",
       "    .dataframe tbody tr th {\n",
       "        vertical-align: top;\n",
       "    }\n",
       "\n",
       "    .dataframe thead th {\n",
       "        text-align: right;\n",
       "    }\n",
       "</style>\n",
       "<table border=\"1\" class=\"dataframe\">\n",
       "  <thead>\n",
       "    <tr style=\"text-align: right;\">\n",
       "      <th></th>\n",
       "      <th>Age</th>\n",
       "      <th>Income</th>\n",
       "      <th>LoanAmount</th>\n",
       "      <th>CreditScore</th>\n",
       "      <th>MonthsEmployed</th>\n",
       "      <th>NumCreditLines</th>\n",
       "      <th>InterestRate</th>\n",
       "      <th>LoanTerm</th>\n",
       "      <th>DTIRatio</th>\n",
       "    </tr>\n",
       "  </thead>\n",
       "  <tbody>\n",
       "    <tr>\n",
       "      <th>0</th>\n",
       "      <td>32</td>\n",
       "      <td>131645</td>\n",
       "      <td>43797</td>\n",
       "      <td>802</td>\n",
       "      <td>23</td>\n",
       "      <td>2</td>\n",
       "      <td>6.10</td>\n",
       "      <td>24</td>\n",
       "      <td>0.13</td>\n",
       "    </tr>\n",
       "    <tr>\n",
       "      <th>1</th>\n",
       "      <td>61</td>\n",
       "      <td>134312</td>\n",
       "      <td>18402</td>\n",
       "      <td>369</td>\n",
       "      <td>87</td>\n",
       "      <td>2</td>\n",
       "      <td>12.99</td>\n",
       "      <td>60</td>\n",
       "      <td>0.59</td>\n",
       "    </tr>\n",
       "    <tr>\n",
       "      <th>2</th>\n",
       "      <td>55</td>\n",
       "      <td>115809</td>\n",
       "      <td>151774</td>\n",
       "      <td>563</td>\n",
       "      <td>3</td>\n",
       "      <td>3</td>\n",
       "      <td>5.51</td>\n",
       "      <td>48</td>\n",
       "      <td>0.82</td>\n",
       "    </tr>\n",
       "    <tr>\n",
       "      <th>3</th>\n",
       "      <td>58</td>\n",
       "      <td>94970</td>\n",
       "      <td>55789</td>\n",
       "      <td>337</td>\n",
       "      <td>24</td>\n",
       "      <td>1</td>\n",
       "      <td>23.93</td>\n",
       "      <td>36</td>\n",
       "      <td>0.77</td>\n",
       "    </tr>\n",
       "    <tr>\n",
       "      <th>4</th>\n",
       "      <td>63</td>\n",
       "      <td>71727</td>\n",
       "      <td>189798</td>\n",
       "      <td>451</td>\n",
       "      <td>52</td>\n",
       "      <td>3</td>\n",
       "      <td>22.05</td>\n",
       "      <td>48</td>\n",
       "      <td>0.44</td>\n",
       "    </tr>\n",
       "    <tr>\n",
       "      <th>...</th>\n",
       "      <td>...</td>\n",
       "      <td>...</td>\n",
       "      <td>...</td>\n",
       "      <td>...</td>\n",
       "      <td>...</td>\n",
       "      <td>...</td>\n",
       "      <td>...</td>\n",
       "      <td>...</td>\n",
       "      <td>...</td>\n",
       "    </tr>\n",
       "    <tr>\n",
       "      <th>109430</th>\n",
       "      <td>67</td>\n",
       "      <td>76970</td>\n",
       "      <td>108110</td>\n",
       "      <td>404</td>\n",
       "      <td>67</td>\n",
       "      <td>3</td>\n",
       "      <td>10.51</td>\n",
       "      <td>36</td>\n",
       "      <td>0.18</td>\n",
       "    </tr>\n",
       "    <tr>\n",
       "      <th>109431</th>\n",
       "      <td>44</td>\n",
       "      <td>108272</td>\n",
       "      <td>238508</td>\n",
       "      <td>335</td>\n",
       "      <td>28</td>\n",
       "      <td>1</td>\n",
       "      <td>9.65</td>\n",
       "      <td>24</td>\n",
       "      <td>0.32</td>\n",
       "    </tr>\n",
       "    <tr>\n",
       "      <th>109432</th>\n",
       "      <td>54</td>\n",
       "      <td>73526</td>\n",
       "      <td>18513</td>\n",
       "      <td>576</td>\n",
       "      <td>75</td>\n",
       "      <td>2</td>\n",
       "      <td>17.22</td>\n",
       "      <td>36</td>\n",
       "      <td>0.62</td>\n",
       "    </tr>\n",
       "    <tr>\n",
       "      <th>109433</th>\n",
       "      <td>60</td>\n",
       "      <td>75296</td>\n",
       "      <td>38414</td>\n",
       "      <td>369</td>\n",
       "      <td>71</td>\n",
       "      <td>4</td>\n",
       "      <td>17.69</td>\n",
       "      <td>36</td>\n",
       "      <td>0.66</td>\n",
       "    </tr>\n",
       "    <tr>\n",
       "      <th>109434</th>\n",
       "      <td>18</td>\n",
       "      <td>19144</td>\n",
       "      <td>222659</td>\n",
       "      <td>531</td>\n",
       "      <td>1</td>\n",
       "      <td>4</td>\n",
       "      <td>15.28</td>\n",
       "      <td>48</td>\n",
       "      <td>0.10</td>\n",
       "    </tr>\n",
       "  </tbody>\n",
       "</table>\n",
       "<p>109435 rows × 9 columns</p>\n",
       "</div>"
      ],
      "text/plain": [
       "        Age  Income  LoanAmount  CreditScore  MonthsEmployed  NumCreditLines  \\\n",
       "0        32  131645       43797          802              23               2   \n",
       "1        61  134312       18402          369              87               2   \n",
       "2        55  115809      151774          563               3               3   \n",
       "3        58   94970       55789          337              24               1   \n",
       "4        63   71727      189798          451              52               3   \n",
       "...     ...     ...         ...          ...             ...             ...   \n",
       "109430   67   76970      108110          404              67               3   \n",
       "109431   44  108272      238508          335              28               1   \n",
       "109432   54   73526       18513          576              75               2   \n",
       "109433   60   75296       38414          369              71               4   \n",
       "109434   18   19144      222659          531               1               4   \n",
       "\n",
       "        InterestRate  LoanTerm  DTIRatio  \n",
       "0               6.10        24      0.13  \n",
       "1              12.99        60      0.59  \n",
       "2               5.51        48      0.82  \n",
       "3              23.93        36      0.77  \n",
       "4              22.05        48      0.44  \n",
       "...              ...       ...       ...  \n",
       "109430         10.51        36      0.18  \n",
       "109431          9.65        24      0.32  \n",
       "109432         17.22        36      0.62  \n",
       "109433         17.69        36      0.66  \n",
       "109434         15.28        48      0.10  \n",
       "\n",
       "[109435 rows x 9 columns]"
      ]
     },
     "execution_count": 6,
     "metadata": {},
     "output_type": "execute_result"
    }
   ],
   "source": [
    "# your code here (optional)\n",
    "# Splite data into categorical and numerical variables\n",
    "train_numerical = train_df.select_dtypes('number')\n",
    "train_categorical = train_df.drop(train_df.select_dtypes('number').columns, axis = 1)\n",
    "train_categorical['Default'] = train_df['Default'] # add Default to Categorical variables\n",
    "train_categorical = train_categorical.drop('LoanID',axis = 1)\n",
    "\n",
    "test_numerical = test_df.select_dtypes('number')\n",
    "test_categorical = test_df.drop(test_df.select_dtypes('number').columns, axis = 1)\n",
    "test_categorical = test_categorical.drop('LoanID',axis = 1)\n",
    "\n",
    "for column in train_numerical.columns:\n",
    "    plt.hist(train_numerical[column])\n",
    "    plt.title(f'Histogram of {column}')\n",
    "    plt.show()\n",
    "    \n",
    "test_numerical"
   ]
  },
  {
   "cell_type": "code",
   "execution_count": 7,
   "metadata": {},
   "outputs": [
    {
     "data": {
      "text/plain": [
       "Age               0\n",
       "Income            0\n",
       "LoanAmount        0\n",
       "CreditScore       0\n",
       "MonthsEmployed    0\n",
       "NumCreditLines    0\n",
       "InterestRate      0\n",
       "LoanTerm          0\n",
       "DTIRatio          0\n",
       "Default           0\n",
       "dtype: int64"
      ]
     },
     "execution_count": 7,
     "metadata": {},
     "output_type": "execute_result"
    }
   ],
   "source": [
    "train_numerical.isnull().sum()\n",
    "# no missing values"
   ]
  },
  {
   "cell_type": "code",
   "execution_count": 8,
   "metadata": {},
   "outputs": [
    {
     "name": "stdout",
     "output_type": "stream",
     "text": [
      "<class 'pandas.core.frame.DataFrame'>\n",
      "RangeIndex: 255347 entries, 0 to 255346\n",
      "Data columns (total 10 columns):\n",
      " #   Column          Non-Null Count   Dtype  \n",
      "---  ------          --------------   -----  \n",
      " 0   Age             255347 non-null  int64  \n",
      " 1   Income          255347 non-null  int64  \n",
      " 2   LoanAmount      255347 non-null  int64  \n",
      " 3   CreditScore     255347 non-null  int64  \n",
      " 4   MonthsEmployed  255347 non-null  int64  \n",
      " 5   NumCreditLines  255347 non-null  int64  \n",
      " 6   InterestRate    255347 non-null  float64\n",
      " 7   LoanTerm        255347 non-null  int64  \n",
      " 8   DTIRatio        255347 non-null  float64\n",
      " 9   Default         255347 non-null  int64  \n",
      "dtypes: float64(2), int64(8)\n",
      "memory usage: 19.5 MB\n"
     ]
    }
   ],
   "source": [
    "train_numerical[train_numerical.duplicated()]\n",
    "# no duplicated.\n",
    "train_numerical.info()"
   ]
  },
  {
   "cell_type": "markdown",
   "metadata": {},
   "source": [
    "## Make predictions (required)\n",
    "\n",
    "Remember you should create a dataframe named `prediction_df` with exactly 109,435 entries plus a header row attempting to predict the likelihood of borrowers to default on their loans in `test_df`. Your submission will throw an error if you have extra columns (beyond `LoanID` and `predicted_probaility`) or extra rows.\n",
    "\n",
    "The file should have exactly 2 columns:\n",
    "`LoanID` (sorted in any order)\n",
    "`predicted_probability` (contains your numeric predicted probabilities between 0 and 1, e.g. from `estimator.predict_proba(X, y)[:, 1]`)\n",
    "\n",
    "The naming convention of the dataframe and columns are critical for our autograding, so please make sure to use the exact naming conventions of `prediction_df` with column names `LoanID` and `predicted_probability`!"
   ]
  },
  {
   "cell_type": "code",
   "execution_count": 9,
   "metadata": {},
   "outputs": [],
   "source": [
    "import pandas as pd\n",
    "import scipy.stats as stats\n",
    "\n",
    "def chi2_build(df,col):\n",
    "    \n",
    "    # Create a contingency table\n",
    "    contingency_table = pd.crosstab(df[col], df['Default'])\n",
    "\n",
    "    # Perform chi-square test\n",
    "    chi2, p, dof, expected = stats.chi2_contingency(contingency_table)\n",
    "\n",
    "    print(f\"Chi-square: {chi2:.4f}, p-value: {p:.4f}\")\n",
    "    if p < 0.05:\n",
    "        print(\"✅ Significant difference in default rates across bins\")\n",
    "    else:\n",
    "        print(\"❌ No significant difference in default rates across bins\")\n",
    "        \n",
    "        \n",
    "from sklearn.preprocessing import LabelEncoder\n",
    "\n",
    "def label_encode_columns(df, columns):\n",
    "    \"\"\"\n",
    "    Label encodes the specified categorical columns and returns a new DataFrame \n",
    "    with _le suffix for each encoded column.\n",
    "\n",
    "    Parameters:\n",
    "    - df: pandas DataFrame\n",
    "    - columns: list of column names to encode\n",
    "\n",
    "    Returns:\n",
    "    - encoded_df: new DataFrame with encoded columns (named as <col>_le)\n",
    "    \"\"\"\n",
    "    encoded_df = pd.DataFrame(index=df.index)\n",
    "    le = LabelEncoder()\n",
    "    encoded_col = le.fit_transform(df[columns].astype(str))\n",
    "    encoded_df[columns + '_le'] = encoded_col\n",
    "\n",
    "    return encoded_df\n",
    "\n"
   ]
  },
  {
   "cell_type": "code",
   "execution_count": 10,
   "metadata": {},
   "outputs": [
    {
     "data": {
      "image/png": "[encoded data removed]",
      "text/plain": [
       "<Figure size 432x288 with 1 Axes>"
      ]
     },
     "metadata": {
      "needs_background": "light"
     },
     "output_type": "display_data"
    },
    {
     "data": {
      "image/png": "[encoded data removed]",
      "text/plain": [
       "<Figure size 432x288 with 1 Axes>"
      ]
     },
     "metadata": {
      "needs_background": "light"
     },
     "output_type": "display_data"
    },
    {
     "data": {
      "image/png": "[encoded data removed]",
      "text/plain": [
       "<Figure size 432x288 with 1 Axes>"
      ]
     },
     "metadata": {
      "needs_background": "light"
     },
     "output_type": "display_data"
    },
    {
     "data": {
      "image/png": "[encoded data removed]",
      "text/plain": [
       "<Figure size 432x288 with 1 Axes>"
      ]
     },
     "metadata": {
      "needs_background": "light"
     },
     "output_type": "display_data"
    },
    {
     "data": {
      "image/png": "[encoded data removed]",
      "text/plain": [
       "<Figure size 432x288 with 1 Axes>"
      ]
     },
     "metadata": {
      "needs_background": "light"
     },
     "output_type": "display_data"
    },
    {
     "data": {
      "image/png": "[encoded data removed]",
      "text/plain": [
       "<Figure size 432x288 with 1 Axes>"
      ]
     },
     "metadata": {
      "needs_background": "light"
     },
     "output_type": "display_data"
    },
    {
     "data": {
      "image/png": "[encoded data removed]",
      "text/plain": [
       "<Figure size 432x288 with 1 Axes>"
      ]
     },
     "metadata": {
      "needs_background": "light"
     },
     "output_type": "display_data"
    },
    {
     "data": {
      "image/png": "[encoded data removed]",
      "text/plain": [
       "<Figure size 432x288 with 1 Axes>"
      ]
     },
     "metadata": {
      "needs_background": "light"
     },
     "output_type": "display_data"
    },
    {
     "data": {
      "image/png": "[encoded data removed]",
      "text/plain": [
       "<Figure size 432x288 with 1 Axes>"
      ]
     },
     "metadata": {
      "needs_background": "light"
     },
     "output_type": "display_data"
    },
    {
     "data": {
      "image/png": "[encoded data removed]",
      "text/plain": [
       "<Figure size 432x288 with 1 Axes>"
      ]
     },
     "metadata": {
      "needs_background": "light"
     },
     "output_type": "display_data"
    }
   ],
   "source": [
    "for column in train_numerical.columns:\n",
    "    sns.boxplot(x =train_numerical['Default'], y = train_numerical[column])\n",
    "    plt.title(f'Histogram of {column}')\n",
    "    plt.show()"
   ]
  },
  {
   "cell_type": "code",
   "execution_count": 11,
   "metadata": {},
   "outputs": [
    {
     "data": {
      "text/plain": [
       "Index(['Age', 'Income', 'LoanAmount', 'CreditScore', 'MonthsEmployed',\n",
       "       'NumCreditLines', 'InterestRate', 'LoanTerm', 'DTIRatio', 'Default'],\n",
       "      dtype='object')"
      ]
     },
     "execution_count": 11,
     "metadata": {},
     "output_type": "execute_result"
    }
   ],
   "source": [
    "train_numerical.columns\n"
   ]
  },
  {
   "cell_type": "code",
   "execution_count": 12,
   "metadata": {},
   "outputs": [
    {
     "data": {
      "image/png": "[encoded data removed]",
      "text/plain": [
       "<Figure size 432x288 with 1 Axes>"
      ]
     },
     "metadata": {
      "needs_background": "light"
     },
     "output_type": "display_data"
    }
   ],
   "source": [
    "train_numerical['DTIRatio'].describe()\n",
    "\n",
    "label = ['low','low-mid','mid','mid-high','high']\n",
    "emp_label = ['Short','mid','long']\n",
    "no_label = [1,2,3,4]\n",
    "term__label = [12,24,36,48,60]\n",
    "\n",
    "train_numerical['DTIRatio_grp'] = pd.cut(train_numerical['DTIRatio'], bins = 5, labels = label)\n",
    "DTIRatio_grp = train_numerical[['DTIRatio_grp','Default']].groupby(['DTIRatio_grp']).mean().reset_index()\n",
    "\n",
    "\n",
    "\n",
    "sns.barplot(x = 'DTIRatio_grp', y = 'Default', data = DTIRatio_grp)\n",
    "plt.title('Average Default Rate by DTIRatio Group')\n",
    "plt.xlabel('DTIRatio group')\n",
    "plt.ylabel('Defult Rate')\n",
    "DTIRatio_grp\n",
    "\n",
    "# DTI ratio increase, default rate increase\n",
    "\n",
    "test_numerical['DTIRatio_grp'] = pd.cut(test_numerical['DTIRatio'], bins = 5, labels = label)\n",
    "\n"
   ]
  },
  {
   "cell_type": "code",
   "execution_count": 13,
   "metadata": {},
   "outputs": [
    {
     "name": "stdout",
     "output_type": "stream",
     "text": [
      "Chi-square: 103.2388, p-value: 0.0000\n",
      "✅ Significant difference in default rates across bins\n"
     ]
    }
   ],
   "source": [
    "chi2_build(train_numerical,'DTIRatio_grp')"
   ]
  },
  {
   "cell_type": "code",
   "execution_count": 14,
   "metadata": {},
   "outputs": [
    {
     "data": {
      "image/png": "[encoded data removed]",
      "text/plain": [
       "<Figure size 432x288 with 1 Axes>"
      ]
     },
     "metadata": {
      "needs_background": "light"
     },
     "output_type": "display_data"
    }
   ],
   "source": [
    "\n",
    "train_numerical['LoanTerm'].value_counts()\n",
    "\n",
    "label = ['low','low-mid','mid','mid-high','high']\n",
    "emp_label = ['Short','mid','long']\n",
    "no_label = [1,2,3,4]\n",
    "term__label = [12,24,36,48,60]\n",
    "train_numerical['LoanTerm_grp'] = pd.cut(train_numerical['LoanTerm'], bins = 5, labels = term__label)\n",
    "LoanTerm_grp = train_numerical[['LoanTerm_grp','Default']].groupby(['LoanTerm_grp']).mean().reset_index()\n",
    "\n",
    "sns.barplot(x = 'LoanTerm_grp', y = 'Default', data = LoanTerm_grp)\n",
    "plt.title('Average Default Rate by LoanTerm Group')\n",
    "plt.xlabel('LoanTerm group')\n",
    "plt.ylabel('Defult Rate')\n",
    "\n",
    "\n",
    "# default rate distributes equally over groups\n",
    "\n",
    "test_numerical['LoanTerm_grp'] = pd.cut(test_numerical['LoanTerm'], bins = 5, labels = term__label)\n"
   ]
  },
  {
   "cell_type": "code",
   "execution_count": 15,
   "metadata": {},
   "outputs": [],
   "source": [
    "train_numerical = train_numerical.drop(['LoanTerm_grp','LoanTerm'],axis = 1)\n",
    "test_numerical = test_numerical.drop(['LoanTerm_grp','LoanTerm'],axis = 1)\n"
   ]
  },
  {
   "cell_type": "code",
   "execution_count": 16,
   "metadata": {},
   "outputs": [
    {
     "data": {
      "image/png": "[encoded data removed]",
      "text/plain": [
       "<Figure size 432x288 with 1 Axes>"
      ]
     },
     "metadata": {
      "needs_background": "light"
     },
     "output_type": "display_data"
    }
   ],
   "source": [
    "train_numerical['InterestRate'].describe()\n",
    "\n",
    "label = ['low','low-mid','mid','mid-high','high']\n",
    "emp_label = ['Short','mid','long']\n",
    "no_label = [1,2,3,4]\n",
    "\n",
    "train_numerical['InterestRate_grp'] = pd.cut(train_numerical['InterestRate'], bins = 5, labels = label)\n",
    "InterestRate_grp = train_numerical[['InterestRate_grp','Default']].groupby(['InterestRate_grp']).mean().reset_index()\n",
    "\n",
    "sns.barplot(x = 'InterestRate_grp', y = 'Default', data = InterestRate_grp)\n",
    "plt.title('Average Default Rate by InterestRate Group')\n",
    "plt.xlabel('InterestRate group')\n",
    "plt.ylabel('Defult Rate')\n",
    "InterestRate_grp\n",
    "# As interest rate goes up, default rate increase.\n",
    "\n",
    "test_numerical['InterestRate_grp'] = pd.cut(test_numerical['InterestRate'], bins = 5, labels = label)\n"
   ]
  },
  {
   "cell_type": "code",
   "execution_count": 17,
   "metadata": {},
   "outputs": [
    {
     "name": "stdout",
     "output_type": "stream",
     "text": [
      "Chi-square: 6736.6066, p-value: 0.0000\n",
      "✅ Significant difference in default rates across bins\n"
     ]
    }
   ],
   "source": [
    "chi2_build(train_numerical, 'InterestRate')"
   ]
  },
  {
   "cell_type": "code",
   "execution_count": 18,
   "metadata": {},
   "outputs": [
    {
     "data": {
      "image/png": "[encoded data removed]",
      "text/plain": [
       "<Figure size 432x288 with 1 Axes>"
      ]
     },
     "metadata": {
      "needs_background": "light"
     },
     "output_type": "display_data"
    }
   ],
   "source": [
    "\n",
    "label = ['low','low-mid','mid','mid-high','high']\n",
    "emp_label = ['Short','mid','long']\n",
    "no_label = [1,2,3,4]\n",
    "\n",
    "train_numerical['NumCreditLines_grp'] = pd.cut(train_numerical['NumCreditLines'], bins = 4, labels = no_label)\n",
    "NumCreditLines_grp = train_numerical[['NumCreditLines_grp','Default']].groupby(['NumCreditLines_grp']).mean().reset_index()\n",
    "\n",
    "sns.barplot(x = 'NumCreditLines_grp', y = 'Default', data = NumCreditLines_grp)\n",
    "plt.title('Average Default Rate by NumCreditLines Group')\n",
    "plt.xlabel('NumCreditLines group')\n",
    "plt.ylabel('Defult Rate')\n",
    "NumCreditLines_grp\n",
    "\n",
    "# As credit employment rate is short, higher rate of default\n",
    "# as more line of credit, more default rate\n",
    "\n",
    "\n",
    "test_numerical['NumCreditLines_grp'] = pd.cut(test_numerical['NumCreditLines'], bins = 4, labels = no_label)\n"
   ]
  },
  {
   "cell_type": "code",
   "execution_count": 19,
   "metadata": {},
   "outputs": [
    {
     "name": "stdout",
     "output_type": "stream",
     "text": [
      "Chi-square: 208.6514, p-value: 0.0000\n",
      "✅ Significant difference in default rates across bins\n"
     ]
    }
   ],
   "source": [
    "chi2_build(train_numerical,'NumCreditLines_grp' )"
   ]
  },
  {
   "cell_type": "code",
   "execution_count": 20,
   "metadata": {},
   "outputs": [
    {
     "data": {
      "image/png": "[encoded data removed]",
      "text/plain": [
       "<Figure size 432x288 with 1 Axes>"
      ]
     },
     "metadata": {
      "needs_background": "light"
     },
     "output_type": "display_data"
    }
   ],
   "source": [
    "train_numerical['MonthsEmployed'].describe()\n",
    "label = ['low','low-mid','mid','mid-high','high']\n",
    "emp_label = ['Short','mid','long']\n",
    "train_numerical['MonthsEmployed_grp'] = pd.cut(train_numerical['MonthsEmployed'], bins = 3, labels = emp_label)\n",
    "MonthsEmployed_grp = train_numerical[['MonthsEmployed_grp','Default']].groupby(['MonthsEmployed_grp']).mean().reset_index()\n",
    "\n",
    "sns.barplot(x = 'MonthsEmployed_grp', y = 'Default', data = MonthsEmployed_grp)\n",
    "plt.title('Average Default Rate by MonthsEmployed Group')\n",
    "plt.xlabel('MonthsEmployed group')\n",
    "plt.ylabel('Defult Rate')\n",
    "MonthsEmployed_grp\n",
    "\n",
    "# As credit employment rate is short, higher rate of default\n",
    "test_numerical['MonthsEmployed_grp'] = pd.cut(test_numerical['MonthsEmployed'], bins = 3, labels = emp_label)\n"
   ]
  },
  {
   "cell_type": "code",
   "execution_count": 21,
   "metadata": {},
   "outputs": [
    {
     "name": "stdout",
     "output_type": "stream",
     "text": [
      "Chi-square: 2148.3732, p-value: 0.0000\n",
      "✅ Significant difference in default rates across bins\n"
     ]
    }
   ],
   "source": [
    "chi2_build(train_numerical,'MonthsEmployed_grp' )"
   ]
  },
  {
   "cell_type": "code",
   "execution_count": 22,
   "metadata": {},
   "outputs": [
    {
     "data": {
      "image/png": "[encoded data removed]",
      "text/plain": [
       "<Figure size 432x288 with 1 Axes>"
      ]
     },
     "metadata": {
      "needs_background": "light"
     },
     "output_type": "display_data"
    }
   ],
   "source": [
    "train_numerical['CreditScore'].describe()\n",
    "label = ['low','low-mid','mid','mid-high','high']\n",
    "train_numerical['CreditScore_grp'] = pd.cut(train_numerical['CreditScore'], bins = 5, labels = label)\n",
    "CreditScore_grp = train_numerical[['CreditScore_grp','Default']].groupby(['CreditScore_grp']).mean().reset_index()\n",
    "\n",
    "sns.barplot(x = 'CreditScore_grp', y = 'Default', data = CreditScore_grp)\n",
    "plt.title('Average Default Rate by CreditScore Group')\n",
    "plt.xlabel('CreditScore group')\n",
    "plt.ylabel('Defult Rate')\n",
    "CreditScore_grp\n",
    "\n",
    "# As credit score goes up, the default rate descrease\n",
    "test_numerical['CreditScore_grp'] = pd.cut(test_numerical['CreditScore'], bins = 5, labels = label)\n"
   ]
  },
  {
   "cell_type": "code",
   "execution_count": 23,
   "metadata": {},
   "outputs": [
    {
     "name": "stdout",
     "output_type": "stream",
     "text": [
      "Chi-square: 277.6744, p-value: 0.0000\n",
      "✅ Significant difference in default rates across bins\n"
     ]
    }
   ],
   "source": [
    "chi2_build(train_numerical,'CreditScore_grp' )"
   ]
  },
  {
   "cell_type": "code",
   "execution_count": 24,
   "metadata": {},
   "outputs": [
    {
     "data": {
      "image/png": "[encoded data removed]",
      "text/plain": [
       "<Figure size 432x288 with 1 Axes>"
      ]
     },
     "metadata": {
      "needs_background": "light"
     },
     "output_type": "display_data"
    }
   ],
   "source": [
    "train_numerical['LoanAmount'].describe()\n",
    "label = ['low','low-mid','mid','mid-high','high']\n",
    "train_numerical['LoanAmount_grp'] = pd.cut(train_numerical['LoanAmount'], bins = 5, labels = label)\n",
    "LoanAmount_grp = train_numerical[['LoanAmount_grp','Default']].groupby(['LoanAmount_grp']).mean().reset_index()\n",
    "\n",
    "sns.barplot(x = 'LoanAmount_grp', y = 'Default', data = LoanAmount_grp)\n",
    "plt.title('Average Default Rate by LoanAmount Group')\n",
    "plt.xlabel('LoanAmount group')\n",
    "plt.ylabel('Defult Rate')\n",
    "LoanAmount_grp \n",
    "\n",
    "# As loan amount inscrease, the default rate increase.\n",
    "test_numerical['LoanAmount_grp'] = pd.cut(test_numerical['LoanAmount'], bins = 5, labels = label)\n"
   ]
  },
  {
   "cell_type": "code",
   "execution_count": 25,
   "metadata": {},
   "outputs": [
    {
     "name": "stdout",
     "output_type": "stream",
     "text": [
      "Chi-square: 1851.2428, p-value: 0.0000\n",
      "✅ Significant difference in default rates across bins\n"
     ]
    }
   ],
   "source": [
    "chi2_build(train_numerical,'LoanAmount_grp' )"
   ]
  },
  {
   "cell_type": "code",
   "execution_count": 26,
   "metadata": {},
   "outputs": [
    {
     "data": {
      "image/png": "[encoded data removed]",
      "text/plain": [
       "<Figure size 432x288 with 1 Axes>"
      ]
     },
     "metadata": {
      "needs_background": "light"
     },
     "output_type": "display_data"
    }
   ],
   "source": [
    "train_numerical['Income'].describe()\n",
    "label = ['low','low-mid','mid','mid-high','high']\n",
    "train_numerical['income_grp'] = pd.cut(train_numerical['Income'], bins = 5, labels = label)\n",
    "income_grp = train_numerical[['income_grp','Default']].groupby(['income_grp']).mean().reset_index()\n",
    "\n",
    "sns.barplot(x = 'income_grp', y = 'Default', data = income_grp)\n",
    "plt.title('Average Default Rate by Income Group')\n",
    "plt.xlabel('Income group')\n",
    "plt.ylabel('Defult Rate')\n",
    "income_grp \n",
    "\n",
    "# low income group has the highest default rate. but may be it is by chance. \n",
    "test_numerical['income_grp'] = pd.cut(test_numerical['Income'], bins = 5, labels = label)\n"
   ]
  },
  {
   "cell_type": "code",
   "execution_count": 27,
   "metadata": {},
   "outputs": [
    {
     "data": {
      "text/plain": [
       "<matplotlib.axes._subplots.AxesSubplot at 0x70006fc69690>"
      ]
     },
     "execution_count": 27,
     "metadata": {},
     "output_type": "execute_result"
    },
    {
     "data": {
      "image/png": "[encoded data removed]",
      "text/plain": [
       "<Figure size 432x288 with 2 Axes>"
      ]
     },
     "metadata": {
      "needs_background": "light"
     },
     "output_type": "display_data"
    }
   ],
   "source": [
    "corr = train_numerical.corr()\n",
    "sns.heatmap(corr,cmap = 'coolwarm')"
   ]
  },
  {
   "cell_type": "code",
   "execution_count": 28,
   "metadata": {},
   "outputs": [
    {
     "data": {
      "image/png": "[encoded data removed]",
      "text/plain": [
       "<Figure size 432x288 with 1 Axes>"
      ]
     },
     "metadata": {
      "needs_background": "light"
     },
     "output_type": "display_data"
    }
   ],
   "source": [
    "train_numerical['Age'].describe()\n",
    "label = ['young','middle','old']\n",
    "train_numerical['Age_grp'] = pd.cut(train_numerical['Age'], bins = 3, labels = label)\n",
    "age_grp = train_numerical[['Age_grp','Default']].groupby(['Age_grp']).mean().reset_index()\n",
    "\n",
    "sns.barplot(x = 'Age_grp', y = 'Default', data = age_grp)\n",
    "plt.title('Average Default Rate by Age')\n",
    "plt.xlabel('Age group')\n",
    "plt.ylabel('Defult Rate')\n",
    "\n",
    "# As we see, young adult group has higher rate of defualt than middle and old group.\n",
    "\n",
    "test_numerical['Age_grp'] = pd.cut(test_numerical['Age'], bins = 3, labels = label)\n"
   ]
  },
  {
   "cell_type": "code",
   "execution_count": 29,
   "metadata": {},
   "outputs": [
    {
     "name": "stdout",
     "output_type": "stream",
     "text": [
      "Chi-square: 5353.0734, p-value: 0.0000\n",
      "✅ Significant difference in default rates across bins\n"
     ]
    },
    {
     "data": {
      "image/png": "[encoded data removed]",
      "text/plain": [
       "<Figure size 432x288 with 1 Axes>"
      ]
     },
     "metadata": {
      "needs_background": "light"
     },
     "output_type": "display_data"
    }
   ],
   "source": [
    "train_numerical['interests'] = train_numerical['LoanAmount'] * train_numerical['InterestRate'] / 100\n",
    "\n",
    "train_numerical['interests'].describe()\n",
    "\n",
    "test_numerical['interests'] = test_numerical['LoanAmount'] * test_numerical['InterestRate'] / 100\n",
    "\n",
    "label = ['low','low-mid','mid','mid-high','high']\n",
    "train_numerical['interests_grp'] = pd.cut(train_numerical['interests'], bins = 5, labels = label)\n",
    "income_grp = train_numerical[['interests_grp','Default']].groupby(['interests_grp']).mean().reset_index()\n",
    "\n",
    "sns.barplot(x = 'interests_grp', y = 'Default', data = income_grp)\n",
    "plt.title('Average Default Rate by interests Group')\n",
    "plt.xlabel('interests group')\n",
    "plt.ylabel('Defult Rate')\n",
    "income_grp \n",
    "\n",
    "chi2_build(train_numerical, 'interests_grp')\n",
    "\n",
    "train_numerical =train_numerical.drop(['LoanAmount', 'InterestRate'], axis = 1)\n",
    "test_numerical = test_numerical.drop(['LoanAmount', 'InterestRate'], axis = 1)\n",
    "\n",
    "\n"
   ]
  },
  {
   "cell_type": "code",
   "execution_count": 30,
   "metadata": {},
   "outputs": [
    {
     "data": {
      "text/html": [
       "<div>\n",
       "<style scoped>\n",
       "    .dataframe tbody tr th:only-of-type {\n",
       "        vertical-align: middle;\n",
       "    }\n",
       "\n",
       "    .dataframe tbody tr th {\n",
       "        vertical-align: top;\n",
       "    }\n",
       "\n",
       "    .dataframe thead th {\n",
       "        text-align: right;\n",
       "    }\n",
       "</style>\n",
       "<table border=\"1\" class=\"dataframe\">\n",
       "  <thead>\n",
       "    <tr style=\"text-align: right;\">\n",
       "      <th></th>\n",
       "      <th>Age</th>\n",
       "      <th>Income</th>\n",
       "      <th>CreditScore</th>\n",
       "      <th>MonthsEmployed</th>\n",
       "      <th>NumCreditLines</th>\n",
       "      <th>DTIRatio</th>\n",
       "      <th>Default</th>\n",
       "      <th>DTIRatio_grp</th>\n",
       "      <th>InterestRate_grp</th>\n",
       "      <th>NumCreditLines_grp</th>\n",
       "      <th>MonthsEmployed_grp</th>\n",
       "      <th>CreditScore_grp</th>\n",
       "      <th>LoanAmount_grp</th>\n",
       "      <th>income_grp</th>\n",
       "      <th>Age_grp</th>\n",
       "      <th>interests</th>\n",
       "      <th>interests_grp</th>\n",
       "    </tr>\n",
       "  </thead>\n",
       "  <tbody>\n",
       "    <tr>\n",
       "      <th>0</th>\n",
       "      <td>56</td>\n",
       "      <td>85994</td>\n",
       "      <td>520</td>\n",
       "      <td>80</td>\n",
       "      <td>4</td>\n",
       "      <td>0.44</td>\n",
       "      <td>0</td>\n",
       "      <td>mid</td>\n",
       "      <td>mid</td>\n",
       "      <td>4</td>\n",
       "      <td>long</td>\n",
       "      <td>mid</td>\n",
       "      <td>low</td>\n",
       "      <td>mid</td>\n",
       "      <td>old</td>\n",
       "      <td>7704.4001</td>\n",
       "      <td>low</td>\n",
       "    </tr>\n",
       "    <tr>\n",
       "      <th>1</th>\n",
       "      <td>69</td>\n",
       "      <td>50432</td>\n",
       "      <td>458</td>\n",
       "      <td>15</td>\n",
       "      <td>1</td>\n",
       "      <td>0.68</td>\n",
       "      <td>0</td>\n",
       "      <td>mid-high</td>\n",
       "      <td>low</td>\n",
       "      <td>1</td>\n",
       "      <td>Short</td>\n",
       "      <td>low-mid</td>\n",
       "      <td>mid</td>\n",
       "      <td>low-mid</td>\n",
       "      <td>old</td>\n",
       "      <td>5985.5640</td>\n",
       "      <td>low</td>\n",
       "    </tr>\n",
       "    <tr>\n",
       "      <th>2</th>\n",
       "      <td>46</td>\n",
       "      <td>84208</td>\n",
       "      <td>451</td>\n",
       "      <td>26</td>\n",
       "      <td>3</td>\n",
       "      <td>0.31</td>\n",
       "      <td>1</td>\n",
       "      <td>low-mid</td>\n",
       "      <td>high</td>\n",
       "      <td>3</td>\n",
       "      <td>Short</td>\n",
       "      <td>low-mid</td>\n",
       "      <td>mid</td>\n",
       "      <td>mid</td>\n",
       "      <td>middle</td>\n",
       "      <td>27349.0996</td>\n",
       "      <td>mid</td>\n",
       "    </tr>\n",
       "    <tr>\n",
       "      <th>3</th>\n",
       "      <td>32</td>\n",
       "      <td>31713</td>\n",
       "      <td>743</td>\n",
       "      <td>0</td>\n",
       "      <td>3</td>\n",
       "      <td>0.23</td>\n",
       "      <td>0</td>\n",
       "      <td>low</td>\n",
       "      <td>low-mid</td>\n",
       "      <td>3</td>\n",
       "      <td>Short</td>\n",
       "      <td>high</td>\n",
       "      <td>low</td>\n",
       "      <td>low</td>\n",
       "      <td>young</td>\n",
       "      <td>3167.2893</td>\n",
       "      <td>low</td>\n",
       "    </tr>\n",
       "    <tr>\n",
       "      <th>4</th>\n",
       "      <td>60</td>\n",
       "      <td>20437</td>\n",
       "      <td>633</td>\n",
       "      <td>8</td>\n",
       "      <td>4</td>\n",
       "      <td>0.73</td>\n",
       "      <td>0</td>\n",
       "      <td>mid-high</td>\n",
       "      <td>low</td>\n",
       "      <td>4</td>\n",
       "      <td>Short</td>\n",
       "      <td>mid-high</td>\n",
       "      <td>low</td>\n",
       "      <td>low</td>\n",
       "      <td>old</td>\n",
       "      <td>594.9489</td>\n",
       "      <td>low</td>\n",
       "    </tr>\n",
       "  </tbody>\n",
       "</table>\n",
       "</div>"
      ],
      "text/plain": [
       "   Age  Income  CreditScore  MonthsEmployed  NumCreditLines  DTIRatio  \\\n",
       "0   56   85994          520              80               4      0.44   \n",
       "1   69   50432          458              15               1      0.68   \n",
       "2   46   84208          451              26               3      0.31   \n",
       "3   32   31713          743               0               3      0.23   \n",
       "4   60   20437          633               8               4      0.73   \n",
       "\n",
       "   Default DTIRatio_grp InterestRate_grp NumCreditLines_grp  \\\n",
       "0        0          mid              mid                  4   \n",
       "1        0     mid-high              low                  1   \n",
       "2        1      low-mid             high                  3   \n",
       "3        0          low          low-mid                  3   \n",
       "4        0     mid-high              low                  4   \n",
       "\n",
       "  MonthsEmployed_grp CreditScore_grp LoanAmount_grp income_grp Age_grp  \\\n",
       "0               long             mid            low        mid     old   \n",
       "1              Short         low-mid            mid    low-mid     old   \n",
       "2              Short         low-mid            mid        mid  middle   \n",
       "3              Short            high            low        low   young   \n",
       "4              Short        mid-high            low        low     old   \n",
       "\n",
       "    interests interests_grp  \n",
       "0   7704.4001           low  \n",
       "1   5985.5640           low  \n",
       "2  27349.0996           mid  \n",
       "3   3167.2893           low  \n",
       "4    594.9489           low  "
      ]
     },
     "execution_count": 30,
     "metadata": {},
     "output_type": "execute_result"
    }
   ],
   "source": [
    "train_numerical.drop(['LoanAmount_grp', 'InterestRate_grp'], axis = 1)\n",
    "test_numerical.drop(['LoanAmount_grp', 'InterestRate_grp'], axis = 1)\n",
    "train_numerical.head()"
   ]
  },
  {
   "cell_type": "code",
   "execution_count": 31,
   "metadata": {},
   "outputs": [
    {
     "data": {
      "text/html": [
       "<div>\n",
       "<style scoped>\n",
       "    .dataframe tbody tr th:only-of-type {\n",
       "        vertical-align: middle;\n",
       "    }\n",
       "\n",
       "    .dataframe tbody tr th {\n",
       "        vertical-align: top;\n",
       "    }\n",
       "\n",
       "    .dataframe thead th {\n",
       "        text-align: right;\n",
       "    }\n",
       "</style>\n",
       "<table border=\"1\" class=\"dataframe\">\n",
       "  <thead>\n",
       "    <tr style=\"text-align: right;\">\n",
       "      <th></th>\n",
       "      <th>Education</th>\n",
       "      <th>EmploymentType</th>\n",
       "      <th>MaritalStatus</th>\n",
       "      <th>HasMortgage</th>\n",
       "      <th>HasDependents</th>\n",
       "      <th>LoanPurpose</th>\n",
       "      <th>HasCoSigner</th>\n",
       "      <th>Default</th>\n",
       "    </tr>\n",
       "  </thead>\n",
       "  <tbody>\n",
       "    <tr>\n",
       "      <th>0</th>\n",
       "      <td>Bachelor's</td>\n",
       "      <td>Full-time</td>\n",
       "      <td>Divorced</td>\n",
       "      <td>Yes</td>\n",
       "      <td>Yes</td>\n",
       "      <td>Other</td>\n",
       "      <td>Yes</td>\n",
       "      <td>0</td>\n",
       "    </tr>\n",
       "    <tr>\n",
       "      <th>1</th>\n",
       "      <td>Master's</td>\n",
       "      <td>Full-time</td>\n",
       "      <td>Married</td>\n",
       "      <td>No</td>\n",
       "      <td>No</td>\n",
       "      <td>Other</td>\n",
       "      <td>Yes</td>\n",
       "      <td>0</td>\n",
       "    </tr>\n",
       "    <tr>\n",
       "      <th>2</th>\n",
       "      <td>Master's</td>\n",
       "      <td>Unemployed</td>\n",
       "      <td>Divorced</td>\n",
       "      <td>Yes</td>\n",
       "      <td>Yes</td>\n",
       "      <td>Auto</td>\n",
       "      <td>No</td>\n",
       "      <td>1</td>\n",
       "    </tr>\n",
       "    <tr>\n",
       "      <th>3</th>\n",
       "      <td>High School</td>\n",
       "      <td>Full-time</td>\n",
       "      <td>Married</td>\n",
       "      <td>No</td>\n",
       "      <td>No</td>\n",
       "      <td>Business</td>\n",
       "      <td>No</td>\n",
       "      <td>0</td>\n",
       "    </tr>\n",
       "    <tr>\n",
       "      <th>4</th>\n",
       "      <td>Bachelor's</td>\n",
       "      <td>Unemployed</td>\n",
       "      <td>Divorced</td>\n",
       "      <td>No</td>\n",
       "      <td>Yes</td>\n",
       "      <td>Auto</td>\n",
       "      <td>No</td>\n",
       "      <td>0</td>\n",
       "    </tr>\n",
       "  </tbody>\n",
       "</table>\n",
       "</div>"
      ],
      "text/plain": [
       "     Education EmploymentType MaritalStatus HasMortgage HasDependents  \\\n",
       "0   Bachelor's      Full-time      Divorced         Yes           Yes   \n",
       "1     Master's      Full-time       Married          No            No   \n",
       "2     Master's     Unemployed      Divorced         Yes           Yes   \n",
       "3  High School      Full-time       Married          No            No   \n",
       "4   Bachelor's     Unemployed      Divorced          No           Yes   \n",
       "\n",
       "  LoanPurpose HasCoSigner  Default  \n",
       "0       Other         Yes        0  \n",
       "1       Other         Yes        0  \n",
       "2        Auto          No        1  \n",
       "3    Business          No        0  \n",
       "4        Auto          No        0  "
      ]
     },
     "execution_count": 31,
     "metadata": {},
     "output_type": "execute_result"
    }
   ],
   "source": [
    "train_categorical.head()"
   ]
  },
  {
   "cell_type": "code",
   "execution_count": 32,
   "metadata": {},
   "outputs": [
    {
     "data": {
      "text/plain": [
       "Text(0, 0.5, 'Defult Rate')"
      ]
     },
     "execution_count": 32,
     "metadata": {},
     "output_type": "execute_result"
    },
    {
     "data": {
      "image/png": "[encoded data removed]",
      "text/plain": [
       "<Figure size 432x288 with 1 Axes>"
      ]
     },
     "metadata": {
      "needs_background": "light"
     },
     "output_type": "display_data"
    }
   ],
   "source": [
    "train_categorical['HasCoSigner'].unique()\n",
    "\n",
    "HasCoSigner_grp = train_categorical[['HasCoSigner','Default']].groupby(['HasCoSigner']).mean().reset_index()\n",
    "\n",
    "sns.barplot(x = 'HasCoSigner', y = 'Default', data = HasCoSigner_grp)\n",
    "plt.title('Average Default Rate by CoSigner')\n",
    "plt.xlabel('CoSigner')\n",
    "plt.ylabel('Defult Rate')\n",
    "# with cosigner, default rate is lower."
   ]
  },
  {
   "cell_type": "code",
   "execution_count": 33,
   "metadata": {},
   "outputs": [
    {
     "name": "stdout",
     "output_type": "stream",
     "text": [
      "Chi-square: 390.3050, p-value: 0.0000\n",
      "✅ Significant difference in default rates across bins\n"
     ]
    }
   ],
   "source": [
    "chi2_build(train_categorical,'HasCoSigner')"
   ]
  },
  {
   "cell_type": "code",
   "execution_count": 34,
   "metadata": {},
   "outputs": [
    {
     "data": {
      "text/plain": [
       "Text(0, 0.5, 'Defult Rate')"
      ]
     },
     "execution_count": 34,
     "metadata": {},
     "output_type": "execute_result"
    },
    {
     "data": {
      "image/png": "[encoded data removed]",
      "text/plain": [
       "<Figure size 432x288 with 1 Axes>"
      ]
     },
     "metadata": {
      "needs_background": "light"
     },
     "output_type": "display_data"
    }
   ],
   "source": [
    "train_categorical['LoanPurpose'].unique()\n",
    "\n",
    "LoanPurpose_grp = train_categorical[['LoanPurpose','Default']].groupby(['LoanPurpose']).mean().reset_index()\n",
    "\n",
    "sns.barplot(x = 'LoanPurpose', y = 'Default', data = LoanPurpose_grp)\n",
    "plt.title('Average Default Rate by LoanPurpose')\n",
    "plt.xlabel('LoanPurpose')\n",
    "plt.ylabel('Defult Rate')\n",
    "# loan for home has the lowest default rate."
   ]
  },
  {
   "cell_type": "code",
   "execution_count": 35,
   "metadata": {},
   "outputs": [
    {
     "name": "stdout",
     "output_type": "stream",
     "text": [
      "Chi-square: 127.9342, p-value: 0.0000\n",
      "✅ Significant difference in default rates across bins\n"
     ]
    }
   ],
   "source": [
    "chi2_build(train_categorical,'LoanPurpose')"
   ]
  },
  {
   "cell_type": "code",
   "execution_count": 36,
   "metadata": {},
   "outputs": [
    {
     "data": {
      "text/plain": [
       "Text(0, 0.5, 'Defult Rate')"
      ]
     },
     "execution_count": 36,
     "metadata": {},
     "output_type": "execute_result"
    },
    {
     "data": {
      "image/png": "[encoded data removed]",
      "text/plain": [
       "<Figure size 432x288 with 1 Axes>"
      ]
     },
     "metadata": {
      "needs_background": "light"
     },
     "output_type": "display_data"
    }
   ],
   "source": [
    "\n",
    "train_categorical['HasDependents'].unique()\n",
    "\n",
    "dependents_grp = train_categorical[['HasDependents','Default']].groupby(['HasDependents']).mean().reset_index()\n",
    "\n",
    "sns.barplot(x = 'HasDependents', y = 'Default', data = dependents_grp)\n",
    "plt.title('Average Default Rate by Dependents')\n",
    "plt.xlabel('Dependents')\n",
    "plt.ylabel('Defult Rate')\n",
    "# less default rate on has dependent"
   ]
  },
  {
   "cell_type": "code",
   "execution_count": 37,
   "metadata": {},
   "outputs": [
    {
     "name": "stdout",
     "output_type": "stream",
     "text": [
      "Chi-square: 306.8506, p-value: 0.0000\n",
      "✅ Significant difference in default rates across bins\n"
     ]
    }
   ],
   "source": [
    "chi2_build(train_categorical,'HasDependents')"
   ]
  },
  {
   "cell_type": "code",
   "execution_count": 38,
   "metadata": {},
   "outputs": [
    {
     "data": {
      "text/plain": [
       "Text(0, 0.5, 'Defult Rate')"
      ]
     },
     "execution_count": 38,
     "metadata": {},
     "output_type": "execute_result"
    },
    {
     "data": {
      "image/png": "[encoded data removed]",
      "text/plain": [
       "<Figure size 432x288 with 1 Axes>"
      ]
     },
     "metadata": {
      "needs_background": "light"
     },
     "output_type": "display_data"
    }
   ],
   "source": [
    "\n",
    "train_categorical['HasMortgage'].unique()\n",
    "\n",
    "mortgage_grp = train_categorical[['HasMortgage','Default']].groupby(['HasMortgage']).mean().reset_index()\n",
    "\n",
    "sns.barplot(x = 'HasMortgage', y = 'Default', data = mortgage_grp)\n",
    "plt.title('Average Default Rate by Mortgage')\n",
    "plt.xlabel('Mortgage')\n",
    "plt.ylabel('Defult Rate')\n",
    "# less default rate on has mortgage"
   ]
  },
  {
   "cell_type": "code",
   "execution_count": 39,
   "metadata": {},
   "outputs": [
    {
     "name": "stdout",
     "output_type": "stream",
     "text": [
      "Chi-square: 133.2520, p-value: 0.0000\n",
      "✅ Significant difference in default rates across bins\n"
     ]
    }
   ],
   "source": [
    "chi2_build(train_categorical,'HasMortgage')"
   ]
  },
  {
   "cell_type": "code",
   "execution_count": 40,
   "metadata": {},
   "outputs": [
    {
     "data": {
      "text/plain": [
       "Text(0, 0.5, 'Defult Rate')"
      ]
     },
     "execution_count": 40,
     "metadata": {},
     "output_type": "execute_result"
    },
    {
     "data": {
      "image/png": "[encoded data removed]",
      "text/plain": [
       "<Figure size 432x288 with 1 Axes>"
      ]
     },
     "metadata": {
      "needs_background": "light"
     },
     "output_type": "display_data"
    }
   ],
   "source": [
    "\n",
    "train_categorical['MaritalStatus'].unique()\n",
    "\n",
    "mr_stat_grp = train_categorical[['MaritalStatus','Default']].groupby(['MaritalStatus']).mean().reset_index()\n",
    "\n",
    "sns.barplot(x = 'MaritalStatus', y = 'Default', data = mr_stat_grp)\n",
    "plt.title('Average Default Rate by Marital Status')\n",
    "plt.xlabel('Marital Status')\n",
    "plt.ylabel('Defult Rate')\n",
    "\n",
    "# married relatively low default rate comparing to divorced and single\n"
   ]
  },
  {
   "cell_type": "code",
   "execution_count": 41,
   "metadata": {},
   "outputs": [
    {
     "name": "stdout",
     "output_type": "stream",
     "text": [
      "Chi-square: 200.3611, p-value: 0.0000\n",
      "✅ Significant difference in default rates across bins\n"
     ]
    }
   ],
   "source": [
    "chi2_build(train_categorical,'MaritalStatus')"
   ]
  },
  {
   "cell_type": "code",
   "execution_count": 42,
   "metadata": {},
   "outputs": [
    {
     "data": {
      "text/plain": [
       "Text(0, 0.5, 'Defult Rate')"
      ]
     },
     "execution_count": 42,
     "metadata": {},
     "output_type": "execute_result"
    },
    {
     "data": {
      "image/png": "[encoded data removed]",
      "text/plain": [
       "<Figure size 432x288 with 1 Axes>"
      ]
     },
     "metadata": {
      "needs_background": "light"
     },
     "output_type": "display_data"
    }
   ],
   "source": [
    "train_categorical.head()\n",
    "train_categorical['EmploymentType'].unique()\n",
    "\n",
    "emp_type_grp = train_categorical[['EmploymentType','Default']].groupby(['EmploymentType']).mean().reset_index()\n",
    "\n",
    "sns.barplot(x = 'EmploymentType', y = 'Default', data = emp_type_grp)\n",
    "plt.title('Average Default Rate by Employment Type')\n",
    "plt.xlabel('Employment Type')\n",
    "plt.ylabel('Defult Rate')\n",
    "\n",
    "# fulltime less default and unemployed more default"
   ]
  },
  {
   "cell_type": "code",
   "execution_count": 43,
   "metadata": {},
   "outputs": [
    {
     "name": "stdout",
     "output_type": "stream",
     "text": [
      "Chi-square: 529.7449, p-value: 0.0000\n",
      "✅ Significant difference in default rates across bins\n"
     ]
    }
   ],
   "source": [
    "chi2_build(train_categorical,'EmploymentType')"
   ]
  },
  {
   "cell_type": "code",
   "execution_count": 44,
   "metadata": {},
   "outputs": [
    {
     "data": {
      "text/plain": [
       "Text(0, 0.5, 'Defult Rate')"
      ]
     },
     "execution_count": 44,
     "metadata": {},
     "output_type": "execute_result"
    },
    {
     "data": {
      "image/png": "[encoded data removed]",
      "text/plain": [
       "<Figure size 432x288 with 1 Axes>"
      ]
     },
     "metadata": {
      "needs_background": "light"
     },
     "output_type": "display_data"
    }
   ],
   "source": [
    "\n",
    "train_categorical.head()\n",
    "train_categorical['Education'].unique()\n",
    "edu_grp = train_categorical[['Education','Default']].groupby(['Education']).mean().reset_index()\n",
    "\n",
    "sns.barplot(x = 'Education', y = 'Default', data = edu_grp)\n",
    "plt.title('Average Default Rate by Education Level')\n",
    "plt.xlabel('Education group')\n",
    "plt.ylabel('Defult Rate')\n"
   ]
  },
  {
   "cell_type": "code",
   "execution_count": 45,
   "metadata": {},
   "outputs": [
    {
     "name": "stdout",
     "output_type": "stream",
     "text": [
      "Chi-square: 214.0190, p-value: 0.0000\n",
      "✅ Significant difference in default rates across bins\n"
     ]
    }
   ],
   "source": [
    "chi2_build(train_categorical,'Education')"
   ]
  },
  {
   "cell_type": "code",
   "execution_count": 46,
   "metadata": {},
   "outputs": [],
   "source": [
    "\n",
    "train_numerical = train_numerical.drop(['NumCreditLines_grp', ], axis = 1)\n",
    "test_numerical = test_numerical.drop(['NumCreditLines_grp', ], axis = 1)\n"
   ]
  },
  {
   "cell_type": "code",
   "execution_count": 47,
   "metadata": {},
   "outputs": [],
   "source": [
    "# train_numerical = train_numerical[['DTIRatio_grp', 'InterestRate_grp','MonthsEmployed_grp','CreditScore_grp', 'LoanAmount_grp','income_grp', 'Age_grp','Default' ]]\n",
    "# test_numerical = test_numerical[['DTIRatio_grp', 'InterestRate_grp','MonthsEmployed_grp','CreditScore_grp', 'LoanAmount_grp','income_grp', 'Age_grp' ]]\n"
   ]
  },
  {
   "cell_type": "code",
   "execution_count": 48,
   "metadata": {},
   "outputs": [
    {
     "data": {
      "text/html": [
       "<div>\n",
       "<style scoped>\n",
       "    .dataframe tbody tr th:only-of-type {\n",
       "        vertical-align: middle;\n",
       "    }\n",
       "\n",
       "    .dataframe tbody tr th {\n",
       "        vertical-align: top;\n",
       "    }\n",
       "\n",
       "    .dataframe thead th {\n",
       "        text-align: right;\n",
       "    }\n",
       "</style>\n",
       "<table border=\"1\" class=\"dataframe\">\n",
       "  <thead>\n",
       "    <tr style=\"text-align: right;\">\n",
       "      <th></th>\n",
       "      <th>Age</th>\n",
       "      <th>Income</th>\n",
       "      <th>CreditScore</th>\n",
       "      <th>MonthsEmployed</th>\n",
       "      <th>NumCreditLines</th>\n",
       "      <th>DTIRatio</th>\n",
       "      <th>Default</th>\n",
       "      <th>DTIRatio_grp</th>\n",
       "      <th>InterestRate_grp</th>\n",
       "      <th>MonthsEmployed_grp</th>\n",
       "      <th>CreditScore_grp</th>\n",
       "      <th>LoanAmount_grp</th>\n",
       "      <th>income_grp</th>\n",
       "      <th>Age_grp</th>\n",
       "      <th>interests</th>\n",
       "      <th>interests_grp</th>\n",
       "    </tr>\n",
       "  </thead>\n",
       "  <tbody>\n",
       "    <tr>\n",
       "      <th>0</th>\n",
       "      <td>56</td>\n",
       "      <td>85994</td>\n",
       "      <td>520</td>\n",
       "      <td>80</td>\n",
       "      <td>4</td>\n",
       "      <td>0.44</td>\n",
       "      <td>0</td>\n",
       "      <td>mid</td>\n",
       "      <td>mid</td>\n",
       "      <td>long</td>\n",
       "      <td>mid</td>\n",
       "      <td>low</td>\n",
       "      <td>mid</td>\n",
       "      <td>old</td>\n",
       "      <td>7704.4001</td>\n",
       "      <td>low</td>\n",
       "    </tr>\n",
       "    <tr>\n",
       "      <th>1</th>\n",
       "      <td>69</td>\n",
       "      <td>50432</td>\n",
       "      <td>458</td>\n",
       "      <td>15</td>\n",
       "      <td>1</td>\n",
       "      <td>0.68</td>\n",
       "      <td>0</td>\n",
       "      <td>mid-high</td>\n",
       "      <td>low</td>\n",
       "      <td>Short</td>\n",
       "      <td>low-mid</td>\n",
       "      <td>mid</td>\n",
       "      <td>low-mid</td>\n",
       "      <td>old</td>\n",
       "      <td>5985.5640</td>\n",
       "      <td>low</td>\n",
       "    </tr>\n",
       "    <tr>\n",
       "      <th>2</th>\n",
       "      <td>46</td>\n",
       "      <td>84208</td>\n",
       "      <td>451</td>\n",
       "      <td>26</td>\n",
       "      <td>3</td>\n",
       "      <td>0.31</td>\n",
       "      <td>1</td>\n",
       "      <td>low-mid</td>\n",
       "      <td>high</td>\n",
       "      <td>Short</td>\n",
       "      <td>low-mid</td>\n",
       "      <td>mid</td>\n",
       "      <td>mid</td>\n",
       "      <td>middle</td>\n",
       "      <td>27349.0996</td>\n",
       "      <td>mid</td>\n",
       "    </tr>\n",
       "    <tr>\n",
       "      <th>3</th>\n",
       "      <td>32</td>\n",
       "      <td>31713</td>\n",
       "      <td>743</td>\n",
       "      <td>0</td>\n",
       "      <td>3</td>\n",
       "      <td>0.23</td>\n",
       "      <td>0</td>\n",
       "      <td>low</td>\n",
       "      <td>low-mid</td>\n",
       "      <td>Short</td>\n",
       "      <td>high</td>\n",
       "      <td>low</td>\n",
       "      <td>low</td>\n",
       "      <td>young</td>\n",
       "      <td>3167.2893</td>\n",
       "      <td>low</td>\n",
       "    </tr>\n",
       "    <tr>\n",
       "      <th>4</th>\n",
       "      <td>60</td>\n",
       "      <td>20437</td>\n",
       "      <td>633</td>\n",
       "      <td>8</td>\n",
       "      <td>4</td>\n",
       "      <td>0.73</td>\n",
       "      <td>0</td>\n",
       "      <td>mid-high</td>\n",
       "      <td>low</td>\n",
       "      <td>Short</td>\n",
       "      <td>mid-high</td>\n",
       "      <td>low</td>\n",
       "      <td>low</td>\n",
       "      <td>old</td>\n",
       "      <td>594.9489</td>\n",
       "      <td>low</td>\n",
       "    </tr>\n",
       "  </tbody>\n",
       "</table>\n",
       "</div>"
      ],
      "text/plain": [
       "   Age  Income  CreditScore  MonthsEmployed  NumCreditLines  DTIRatio  \\\n",
       "0   56   85994          520              80               4      0.44   \n",
       "1   69   50432          458              15               1      0.68   \n",
       "2   46   84208          451              26               3      0.31   \n",
       "3   32   31713          743               0               3      0.23   \n",
       "4   60   20437          633               8               4      0.73   \n",
       "\n",
       "   Default DTIRatio_grp InterestRate_grp MonthsEmployed_grp CreditScore_grp  \\\n",
       "0        0          mid              mid               long             mid   \n",
       "1        0     mid-high              low              Short         low-mid   \n",
       "2        1      low-mid             high              Short         low-mid   \n",
       "3        0          low          low-mid              Short            high   \n",
       "4        0     mid-high              low              Short        mid-high   \n",
       "\n",
       "  LoanAmount_grp income_grp Age_grp   interests interests_grp  \n",
       "0            low        mid     old   7704.4001           low  \n",
       "1            mid    low-mid     old   5985.5640           low  \n",
       "2            mid        mid  middle  27349.0996           mid  \n",
       "3            low        low   young   3167.2893           low  \n",
       "4            low        low     old    594.9489           low  "
      ]
     },
     "execution_count": 48,
     "metadata": {},
     "output_type": "execute_result"
    }
   ],
   "source": [
    "train_numerical.head()"
   ]
  },
  {
   "cell_type": "code",
   "execution_count": 49,
   "metadata": {},
   "outputs": [],
   "source": [
    "train_numerical['DTIRatio_grp_le'] = label_encode_columns(train_numerical, 'DTIRatio_grp')\n",
    "train_numerical = train_numerical.drop(['DTIRatio_grp'],axis = 1)\n",
    "\n",
    "test_numerical['DTIRatio_grp_le'] = label_encode_columns(test_numerical, 'DTIRatio_grp')\n",
    "test_numerical = test_numerical.drop(['DTIRatio_grp'],axis = 1)"
   ]
  },
  {
   "cell_type": "code",
   "execution_count": 50,
   "metadata": {},
   "outputs": [],
   "source": [
    "train_numerical['Age_grp_le'] = label_encode_columns(train_numerical, 'Age_grp')\n",
    "train_numerical = train_numerical.drop(['Age_grp'],axis = 1)\n",
    "\n",
    "test_numerical['Age_grp_le'] = label_encode_columns(test_numerical, 'Age_grp')\n",
    "test_numerical = test_numerical.drop(['Age_grp'],axis = 1)"
   ]
  },
  {
   "cell_type": "code",
   "execution_count": 51,
   "metadata": {},
   "outputs": [],
   "source": [
    "train_numerical['income_grp_le'] = label_encode_columns(train_numerical, 'income_grp')\n",
    "train_numerical = train_numerical.drop(['income_grp'],axis = 1)\n",
    "\n",
    "test_numerical['income_grp_le'] = label_encode_columns(test_numerical, 'income_grp')\n",
    "test_numerical = test_numerical.drop(['income_grp'],axis = 1)"
   ]
  },
  {
   "cell_type": "code",
   "execution_count": 52,
   "metadata": {},
   "outputs": [],
   "source": [
    "train_numerical['LoanAmount_grp_le'] = label_encode_columns(train_numerical, 'LoanAmount_grp')\n",
    "train_numerical = train_numerical.drop(['LoanAmount_grp'],axis = 1)\n",
    "\n",
    "test_numerical['LoanAmount_grp_le'] = label_encode_columns(test_numerical, 'LoanAmount_grp')\n",
    "test_numerical = test_numerical.drop(['LoanAmount_grp'],axis = 1)"
   ]
  },
  {
   "cell_type": "code",
   "execution_count": 53,
   "metadata": {},
   "outputs": [],
   "source": [
    "train_numerical['CreditScore_grp_le'] = label_encode_columns(train_numerical, 'CreditScore_grp')\n",
    "train_numerical = train_numerical.drop(['CreditScore_grp'],axis = 1)\n",
    "\n",
    "test_numerical['CreditScore_grp_le'] = label_encode_columns(test_numerical, 'CreditScore_grp')\n",
    "test_numerical = test_numerical.drop(['CreditScore_grp'],axis = 1)"
   ]
  },
  {
   "cell_type": "code",
   "execution_count": 54,
   "metadata": {},
   "outputs": [],
   "source": [
    "train_numerical['MonthsEmployed_grp_le'] = label_encode_columns(train_numerical, 'MonthsEmployed_grp')\n",
    "train_numerical = train_numerical.drop(['MonthsEmployed_grp'],axis = 1)\n",
    "\n",
    "test_numerical['MonthsEmployed_grp_le'] = label_encode_columns(test_numerical, 'MonthsEmployed_grp')\n",
    "test_numerical = test_numerical.drop(['MonthsEmployed_grp'],axis = 1)\n"
   ]
  },
  {
   "cell_type": "code",
   "execution_count": 55,
   "metadata": {},
   "outputs": [],
   "source": [
    "train_numerical['InterestRate_grp_le'] = label_encode_columns(train_numerical, 'InterestRate_grp')\n",
    "train_numerical = train_numerical.drop(['InterestRate_grp'],axis = 1)\n",
    "\n",
    "test_numerical['InterestRate_grp_le'] = label_encode_columns(test_numerical, 'InterestRate_grp')\n",
    "test_numerical = test_numerical.drop(['InterestRate_grp'],axis = 1)"
   ]
  },
  {
   "cell_type": "code",
   "execution_count": 56,
   "metadata": {},
   "outputs": [
    {
     "data": {
      "text/html": [
       "<div>\n",
       "<style scoped>\n",
       "    .dataframe tbody tr th:only-of-type {\n",
       "        vertical-align: middle;\n",
       "    }\n",
       "\n",
       "    .dataframe tbody tr th {\n",
       "        vertical-align: top;\n",
       "    }\n",
       "\n",
       "    .dataframe thead th {\n",
       "        text-align: right;\n",
       "    }\n",
       "</style>\n",
       "<table border=\"1\" class=\"dataframe\">\n",
       "  <thead>\n",
       "    <tr style=\"text-align: right;\">\n",
       "      <th></th>\n",
       "      <th>Age</th>\n",
       "      <th>Income</th>\n",
       "      <th>CreditScore</th>\n",
       "      <th>MonthsEmployed</th>\n",
       "      <th>NumCreditLines</th>\n",
       "      <th>DTIRatio</th>\n",
       "      <th>Default</th>\n",
       "      <th>interests</th>\n",
       "      <th>interests_grp</th>\n",
       "      <th>DTIRatio_grp_le</th>\n",
       "      <th>Age_grp_le</th>\n",
       "      <th>income_grp_le</th>\n",
       "      <th>LoanAmount_grp_le</th>\n",
       "      <th>CreditScore_grp_le</th>\n",
       "      <th>MonthsEmployed_grp_le</th>\n",
       "      <th>InterestRate_grp_le</th>\n",
       "    </tr>\n",
       "  </thead>\n",
       "  <tbody>\n",
       "    <tr>\n",
       "      <th>0</th>\n",
       "      <td>56</td>\n",
       "      <td>85994</td>\n",
       "      <td>520</td>\n",
       "      <td>80</td>\n",
       "      <td>4</td>\n",
       "      <td>0.44</td>\n",
       "      <td>0</td>\n",
       "      <td>7704.4001</td>\n",
       "      <td>low</td>\n",
       "      <td>3</td>\n",
       "      <td>1</td>\n",
       "      <td>3</td>\n",
       "      <td>1</td>\n",
       "      <td>3</td>\n",
       "      <td>1</td>\n",
       "      <td>3</td>\n",
       "    </tr>\n",
       "    <tr>\n",
       "      <th>1</th>\n",
       "      <td>69</td>\n",
       "      <td>50432</td>\n",
       "      <td>458</td>\n",
       "      <td>15</td>\n",
       "      <td>1</td>\n",
       "      <td>0.68</td>\n",
       "      <td>0</td>\n",
       "      <td>5985.5640</td>\n",
       "      <td>low</td>\n",
       "      <td>4</td>\n",
       "      <td>1</td>\n",
       "      <td>2</td>\n",
       "      <td>3</td>\n",
       "      <td>2</td>\n",
       "      <td>0</td>\n",
       "      <td>1</td>\n",
       "    </tr>\n",
       "    <tr>\n",
       "      <th>2</th>\n",
       "      <td>46</td>\n",
       "      <td>84208</td>\n",
       "      <td>451</td>\n",
       "      <td>26</td>\n",
       "      <td>3</td>\n",
       "      <td>0.31</td>\n",
       "      <td>1</td>\n",
       "      <td>27349.0996</td>\n",
       "      <td>mid</td>\n",
       "      <td>2</td>\n",
       "      <td>0</td>\n",
       "      <td>3</td>\n",
       "      <td>3</td>\n",
       "      <td>2</td>\n",
       "      <td>0</td>\n",
       "      <td>0</td>\n",
       "    </tr>\n",
       "    <tr>\n",
       "      <th>3</th>\n",
       "      <td>32</td>\n",
       "      <td>31713</td>\n",
       "      <td>743</td>\n",
       "      <td>0</td>\n",
       "      <td>3</td>\n",
       "      <td>0.23</td>\n",
       "      <td>0</td>\n",
       "      <td>3167.2893</td>\n",
       "      <td>low</td>\n",
       "      <td>1</td>\n",
       "      <td>2</td>\n",
       "      <td>1</td>\n",
       "      <td>1</td>\n",
       "      <td>0</td>\n",
       "      <td>0</td>\n",
       "      <td>2</td>\n",
       "    </tr>\n",
       "    <tr>\n",
       "      <th>4</th>\n",
       "      <td>60</td>\n",
       "      <td>20437</td>\n",
       "      <td>633</td>\n",
       "      <td>8</td>\n",
       "      <td>4</td>\n",
       "      <td>0.73</td>\n",
       "      <td>0</td>\n",
       "      <td>594.9489</td>\n",
       "      <td>low</td>\n",
       "      <td>4</td>\n",
       "      <td>1</td>\n",
       "      <td>1</td>\n",
       "      <td>1</td>\n",
       "      <td>4</td>\n",
       "      <td>0</td>\n",
       "      <td>1</td>\n",
       "    </tr>\n",
       "  </tbody>\n",
       "</table>\n",
       "</div>"
      ],
      "text/plain": [
       "   Age  Income  CreditScore  MonthsEmployed  NumCreditLines  DTIRatio  \\\n",
       "0   56   85994          520              80               4      0.44   \n",
       "1   69   50432          458              15               1      0.68   \n",
       "2   46   84208          451              26               3      0.31   \n",
       "3   32   31713          743               0               3      0.23   \n",
       "4   60   20437          633               8               4      0.73   \n",
       "\n",
       "   Default   interests interests_grp  DTIRatio_grp_le  Age_grp_le  \\\n",
       "0        0   7704.4001           low                3           1   \n",
       "1        0   5985.5640           low                4           1   \n",
       "2        1  27349.0996           mid                2           0   \n",
       "3        0   3167.2893           low                1           2   \n",
       "4        0    594.9489           low                4           1   \n",
       "\n",
       "   income_grp_le  LoanAmount_grp_le  CreditScore_grp_le  \\\n",
       "0              3                  1                   3   \n",
       "1              2                  3                   2   \n",
       "2              3                  3                   2   \n",
       "3              1                  1                   0   \n",
       "4              1                  1                   4   \n",
       "\n",
       "   MonthsEmployed_grp_le  InterestRate_grp_le  \n",
       "0                      1                    3  \n",
       "1                      0                    1  \n",
       "2                      0                    0  \n",
       "3                      0                    2  \n",
       "4                      0                    1  "
      ]
     },
     "execution_count": 56,
     "metadata": {},
     "output_type": "execute_result"
    }
   ],
   "source": [
    "train_numerical.head()"
   ]
  },
  {
   "cell_type": "code",
   "execution_count": 57,
   "metadata": {},
   "outputs": [
    {
     "data": {
      "text/plain": [
       "'\\ntrain_numerical.head()\\n\\n\\n'"
      ]
     },
     "execution_count": 57,
     "metadata": {},
     "output_type": "execute_result"
    }
   ],
   "source": [
    "dummydf = pd.concat([train_numerical.iloc[:,:6],train_numerical['interests']],axis = 1)\n",
    "\n",
    "\n",
    "from sklearn.preprocessing import StandardScaler\n",
    "\n",
    "ss = StandardScaler()\n",
    "\n",
    "for column in dummydf.columns.tolist():\n",
    "        # Reshape to 2D, then flatten back after scaling\n",
    "        dummydf[column] = ss.fit_transform(dummydf[column].values.reshape(-1, 1)).flatten()\n",
    "\n",
    "train_numerical = train_numerical.drop(train_numerical.iloc[:,:6].columns.tolist(), axis = 1)\n",
    "train_numerical\n",
    "\n",
    "train_numerical = train_numerical.drop(['interests'], axis = 1)\n",
    "\n",
    "train_numerical = pd.concat([train_numerical,dummydf], axis = 1)\n",
    "'''\n",
    "train_numerical.head()\n",
    "\n",
    "\n",
    "'''\n"
   ]
  },
  {
   "cell_type": "code",
   "execution_count": 58,
   "metadata": {},
   "outputs": [],
   "source": [
    "train_numerical\n",
    "\n",
    "train_numerical['interests_le'] = label_encode_columns(train_numerical, 'interests_grp')\n",
    "train_numerical = train_numerical.drop(['interests_grp'],axis = 1)\n"
   ]
  },
  {
   "cell_type": "code",
   "execution_count": 59,
   "metadata": {},
   "outputs": [
    {
     "data": {
      "text/html": [
       "<div>\n",
       "<style scoped>\n",
       "    .dataframe tbody tr th:only-of-type {\n",
       "        vertical-align: middle;\n",
       "    }\n",
       "\n",
       "    .dataframe tbody tr th {\n",
       "        vertical-align: top;\n",
       "    }\n",
       "\n",
       "    .dataframe thead th {\n",
       "        text-align: right;\n",
       "    }\n",
       "</style>\n",
       "<table border=\"1\" class=\"dataframe\">\n",
       "  <thead>\n",
       "    <tr style=\"text-align: right;\">\n",
       "      <th></th>\n",
       "      <th>DTIRatio_grp_le</th>\n",
       "      <th>Age_grp_le</th>\n",
       "      <th>income_grp_le</th>\n",
       "      <th>LoanAmount_grp_le</th>\n",
       "      <th>CreditScore_grp_le</th>\n",
       "      <th>MonthsEmployed_grp_le</th>\n",
       "      <th>InterestRate_grp_le</th>\n",
       "      <th>Age</th>\n",
       "      <th>Income</th>\n",
       "      <th>CreditScore</th>\n",
       "      <th>MonthsEmployed</th>\n",
       "      <th>NumCreditLines</th>\n",
       "      <th>DTIRatio</th>\n",
       "      <th>interests</th>\n",
       "    </tr>\n",
       "  </thead>\n",
       "  <tbody>\n",
       "    <tr>\n",
       "      <th>0</th>\n",
       "      <td>1</td>\n",
       "      <td>2</td>\n",
       "      <td>0</td>\n",
       "      <td>1</td>\n",
       "      <td>0</td>\n",
       "      <td>0</td>\n",
       "      <td>1</td>\n",
       "      <td>-0.768287</td>\n",
       "      <td>1.261556</td>\n",
       "      <td>1.431578</td>\n",
       "      <td>-1.058712</td>\n",
       "      <td>-0.448097</td>\n",
       "      <td>-1.601175</td>\n",
       "      <td>-1.068402</td>\n",
       "    </tr>\n",
       "    <tr>\n",
       "      <th>1</th>\n",
       "      <td>4</td>\n",
       "      <td>1</td>\n",
       "      <td>0</td>\n",
       "      <td>1</td>\n",
       "      <td>1</td>\n",
       "      <td>1</td>\n",
       "      <td>3</td>\n",
       "      <td>1.163005</td>\n",
       "      <td>1.330001</td>\n",
       "      <td>-1.295129</td>\n",
       "      <td>0.793787</td>\n",
       "      <td>-0.448097</td>\n",
       "      <td>0.388061</td>\n",
       "      <td>-1.089080</td>\n",
       "    </tr>\n",
       "    <tr>\n",
       "      <th>2</th>\n",
       "      <td>0</td>\n",
       "      <td>1</td>\n",
       "      <td>4</td>\n",
       "      <td>3</td>\n",
       "      <td>3</td>\n",
       "      <td>0</td>\n",
       "      <td>1</td>\n",
       "      <td>0.763427</td>\n",
       "      <td>0.855149</td>\n",
       "      <td>-0.073463</td>\n",
       "      <td>-1.637618</td>\n",
       "      <td>0.446242</td>\n",
       "      <td>1.382679</td>\n",
       "      <td>-0.649897</td>\n",
       "    </tr>\n",
       "    <tr>\n",
       "      <th>3</th>\n",
       "      <td>0</td>\n",
       "      <td>1</td>\n",
       "      <td>3</td>\n",
       "      <td>2</td>\n",
       "      <td>1</td>\n",
       "      <td>0</td>\n",
       "      <td>0</td>\n",
       "      <td>0.963216</td>\n",
       "      <td>0.320347</td>\n",
       "      <td>-1.496641</td>\n",
       "      <td>-1.029767</td>\n",
       "      <td>-1.342437</td>\n",
       "      <td>1.166457</td>\n",
       "      <td>-0.283130</td>\n",
       "    </tr>\n",
       "    <tr>\n",
       "      <th>4</th>\n",
       "      <td>3</td>\n",
       "      <td>1</td>\n",
       "      <td>3</td>\n",
       "      <td>4</td>\n",
       "      <td>2</td>\n",
       "      <td>2</td>\n",
       "      <td>0</td>\n",
       "      <td>1.296197</td>\n",
       "      <td>-0.276149</td>\n",
       "      <td>-0.778755</td>\n",
       "      <td>-0.219299</td>\n",
       "      <td>0.446242</td>\n",
       "      <td>-0.260603</td>\n",
       "      <td>1.812668</td>\n",
       "    </tr>\n",
       "  </tbody>\n",
       "</table>\n",
       "</div>"
      ],
      "text/plain": [
       "   DTIRatio_grp_le  Age_grp_le  income_grp_le  LoanAmount_grp_le  \\\n",
       "0                1           2              0                  1   \n",
       "1                4           1              0                  1   \n",
       "2                0           1              4                  3   \n",
       "3                0           1              3                  2   \n",
       "4                3           1              3                  4   \n",
       "\n",
       "   CreditScore_grp_le  MonthsEmployed_grp_le  InterestRate_grp_le       Age  \\\n",
       "0                   0                      0                    1 -0.768287   \n",
       "1                   1                      1                    3  1.163005   \n",
       "2                   3                      0                    1  0.763427   \n",
       "3                   1                      0                    0  0.963216   \n",
       "4                   2                      2                    0  1.296197   \n",
       "\n",
       "     Income  CreditScore  MonthsEmployed  NumCreditLines  DTIRatio  interests  \n",
       "0  1.261556     1.431578       -1.058712       -0.448097 -1.601175  -1.068402  \n",
       "1  1.330001    -1.295129        0.793787       -0.448097  0.388061  -1.089080  \n",
       "2  0.855149    -0.073463       -1.637618        0.446242  1.382679  -0.649897  \n",
       "3  0.320347    -1.496641       -1.029767       -1.342437  1.166457  -0.283130  \n",
       "4 -0.276149    -0.778755       -0.219299        0.446242 -0.260603   1.812668  "
      ]
     },
     "execution_count": 59,
     "metadata": {},
     "output_type": "execute_result"
    }
   ],
   "source": [
    "dummydf = pd.concat([test_numerical.iloc[:,:6],test_numerical['interests']],axis = 1)\n",
    "ss = StandardScaler()\n",
    "\n",
    "for column in dummydf.columns.tolist():\n",
    "        # Reshape to 2D, then flatten back after scaling\n",
    "        dummydf[column] = ss.fit_transform(dummydf[column].values.reshape(-1, 1)).flatten()\n",
    "\n",
    "dummydf\n",
    "\n",
    "test_numerical = test_numerical.drop(test_numerical.iloc[:,:6].columns.tolist(), axis = 1)\n",
    "test_numerical = test_numerical.drop(['interests'], axis = 1)\n",
    "test_numerical = pd.concat([test_numerical,dummydf], axis = 1)\n",
    "test_numerical.head()\n",
    "\n"
   ]
  },
  {
   "cell_type": "code",
   "execution_count": null,
   "metadata": {},
   "outputs": [],
   "source": []
  },
  {
   "cell_type": "code",
   "execution_count": 61,
   "metadata": {},
   "outputs": [
    {
     "data": {
      "text/html": [
       "<div>\n",
       "<style scoped>\n",
       "    .dataframe tbody tr th:only-of-type {\n",
       "        vertical-align: middle;\n",
       "    }\n",
       "\n",
       "    .dataframe tbody tr th {\n",
       "        vertical-align: top;\n",
       "    }\n",
       "\n",
       "    .dataframe thead th {\n",
       "        text-align: right;\n",
       "    }\n",
       "</style>\n",
       "<table border=\"1\" class=\"dataframe\">\n",
       "  <thead>\n",
       "    <tr style=\"text-align: right;\">\n",
       "      <th></th>\n",
       "      <th>Default</th>\n",
       "      <th>DTIRatio_grp_le</th>\n",
       "      <th>Age_grp_le</th>\n",
       "      <th>income_grp_le</th>\n",
       "      <th>LoanAmount_grp_le</th>\n",
       "      <th>CreditScore_grp_le</th>\n",
       "      <th>MonthsEmployed_grp_le</th>\n",
       "      <th>InterestRate_grp_le</th>\n",
       "      <th>Age</th>\n",
       "      <th>Income</th>\n",
       "      <th>CreditScore</th>\n",
       "      <th>MonthsEmployed</th>\n",
       "      <th>NumCreditLines</th>\n",
       "      <th>DTIRatio</th>\n",
       "      <th>interests</th>\n",
       "      <th>interests_le</th>\n",
       "    </tr>\n",
       "  </thead>\n",
       "  <tbody>\n",
       "    <tr>\n",
       "      <th>0</th>\n",
       "      <td>0</td>\n",
       "      <td>3</td>\n",
       "      <td>1</td>\n",
       "      <td>3</td>\n",
       "      <td>1</td>\n",
       "      <td>3</td>\n",
       "      <td>1</td>\n",
       "      <td>3</td>\n",
       "      <td>0.833990</td>\n",
       "      <td>0.089693</td>\n",
       "      <td>-0.341492</td>\n",
       "      <td>0.590533</td>\n",
       "      <td>1.341937</td>\n",
       "      <td>-0.260753</td>\n",
       "      <td>-0.699373</td>\n",
       "      <td>1</td>\n",
       "    </tr>\n",
       "    <tr>\n",
       "      <th>1</th>\n",
       "      <td>0</td>\n",
       "      <td>4</td>\n",
       "      <td>1</td>\n",
       "      <td>2</td>\n",
       "      <td>3</td>\n",
       "      <td>2</td>\n",
       "      <td>0</td>\n",
       "      <td>1</td>\n",
       "      <td>1.701221</td>\n",
       "      <td>-0.823021</td>\n",
       "      <td>-0.731666</td>\n",
       "      <td>-1.285731</td>\n",
       "      <td>-1.343791</td>\n",
       "      <td>0.778585</td>\n",
       "      <td>-0.825927</td>\n",
       "      <td>1</td>\n",
       "    </tr>\n",
       "    <tr>\n",
       "      <th>2</th>\n",
       "      <td>1</td>\n",
       "      <td>2</td>\n",
       "      <td>0</td>\n",
       "      <td>3</td>\n",
       "      <td>3</td>\n",
       "      <td>2</td>\n",
       "      <td>0</td>\n",
       "      <td>0</td>\n",
       "      <td>0.166888</td>\n",
       "      <td>0.043854</td>\n",
       "      <td>-0.775718</td>\n",
       "      <td>-0.968209</td>\n",
       "      <td>0.446694</td>\n",
       "      <td>-0.823728</td>\n",
       "      <td>0.747024</td>\n",
       "      <td>3</td>\n",
       "    </tr>\n",
       "    <tr>\n",
       "      <th>3</th>\n",
       "      <td>0</td>\n",
       "      <td>1</td>\n",
       "      <td>2</td>\n",
       "      <td>1</td>\n",
       "      <td>1</td>\n",
       "      <td>0</td>\n",
       "      <td>0</td>\n",
       "      <td>2</td>\n",
       "      <td>-0.767053</td>\n",
       "      <td>-1.303452</td>\n",
       "      <td>1.061875</td>\n",
       "      <td>-1.718715</td>\n",
       "      <td>0.446694</td>\n",
       "      <td>-1.170174</td>\n",
       "      <td>-1.033431</td>\n",
       "      <td>1</td>\n",
       "    </tr>\n",
       "    <tr>\n",
       "      <th>4</th>\n",
       "      <td>0</td>\n",
       "      <td>4</td>\n",
       "      <td>1</td>\n",
       "      <td>1</td>\n",
       "      <td>1</td>\n",
       "      <td>4</td>\n",
       "      <td>0</td>\n",
       "      <td>1</td>\n",
       "      <td>1.100830</td>\n",
       "      <td>-1.592855</td>\n",
       "      <td>0.369631</td>\n",
       "      <td>-1.487790</td>\n",
       "      <td>1.341937</td>\n",
       "      <td>0.995114</td>\n",
       "      <td>-1.222827</td>\n",
       "      <td>1</td>\n",
       "    </tr>\n",
       "  </tbody>\n",
       "</table>\n",
       "</div>"
      ],
      "text/plain": [
       "   Default  DTIRatio_grp_le  Age_grp_le  income_grp_le  LoanAmount_grp_le  \\\n",
       "0        0                3           1              3                  1   \n",
       "1        0                4           1              2                  3   \n",
       "2        1                2           0              3                  3   \n",
       "3        0                1           2              1                  1   \n",
       "4        0                4           1              1                  1   \n",
       "\n",
       "   CreditScore_grp_le  MonthsEmployed_grp_le  InterestRate_grp_le       Age  \\\n",
       "0                   3                      1                    3  0.833990   \n",
       "1                   2                      0                    1  1.701221   \n",
       "2                   2                      0                    0  0.166888   \n",
       "3                   0                      0                    2 -0.767053   \n",
       "4                   4                      0                    1  1.100830   \n",
       "\n",
       "     Income  CreditScore  MonthsEmployed  NumCreditLines  DTIRatio  interests  \\\n",
       "0  0.089693    -0.341492        0.590533        1.341937 -0.260753  -0.699373   \n",
       "1 -0.823021    -0.731666       -1.285731       -1.343791  0.778585  -0.825927   \n",
       "2  0.043854    -0.775718       -0.968209        0.446694 -0.823728   0.747024   \n",
       "3 -1.303452     1.061875       -1.718715        0.446694 -1.170174  -1.033431   \n",
       "4 -1.592855     0.369631       -1.487790        1.341937  0.995114  -1.222827   \n",
       "\n",
       "   interests_le  \n",
       "0             1  \n",
       "1             1  \n",
       "2             3  \n",
       "3             1  \n",
       "4             1  "
      ]
     },
     "execution_count": 61,
     "metadata": {},
     "output_type": "execute_result"
    }
   ],
   "source": [
    "train_numerical.head()"
   ]
  },
  {
   "cell_type": "code",
   "execution_count": 62,
   "metadata": {},
   "outputs": [
    {
     "data": {
      "text/html": [
       "<div>\n",
       "<style scoped>\n",
       "    .dataframe tbody tr th:only-of-type {\n",
       "        vertical-align: middle;\n",
       "    }\n",
       "\n",
       "    .dataframe tbody tr th {\n",
       "        vertical-align: top;\n",
       "    }\n",
       "\n",
       "    .dataframe thead th {\n",
       "        text-align: right;\n",
       "    }\n",
       "</style>\n",
       "<table border=\"1\" class=\"dataframe\">\n",
       "  <thead>\n",
       "    <tr style=\"text-align: right;\">\n",
       "      <th></th>\n",
       "      <th>Education</th>\n",
       "      <th>EmploymentType</th>\n",
       "      <th>MaritalStatus</th>\n",
       "      <th>HasMortgage</th>\n",
       "      <th>HasDependents</th>\n",
       "      <th>LoanPurpose</th>\n",
       "      <th>HasCoSigner</th>\n",
       "      <th>Default</th>\n",
       "    </tr>\n",
       "  </thead>\n",
       "  <tbody>\n",
       "    <tr>\n",
       "      <th>0</th>\n",
       "      <td>Bachelor's</td>\n",
       "      <td>Full-time</td>\n",
       "      <td>Divorced</td>\n",
       "      <td>Yes</td>\n",
       "      <td>Yes</td>\n",
       "      <td>Other</td>\n",
       "      <td>Yes</td>\n",
       "      <td>0</td>\n",
       "    </tr>\n",
       "    <tr>\n",
       "      <th>1</th>\n",
       "      <td>Master's</td>\n",
       "      <td>Full-time</td>\n",
       "      <td>Married</td>\n",
       "      <td>No</td>\n",
       "      <td>No</td>\n",
       "      <td>Other</td>\n",
       "      <td>Yes</td>\n",
       "      <td>0</td>\n",
       "    </tr>\n",
       "    <tr>\n",
       "      <th>2</th>\n",
       "      <td>Master's</td>\n",
       "      <td>Unemployed</td>\n",
       "      <td>Divorced</td>\n",
       "      <td>Yes</td>\n",
       "      <td>Yes</td>\n",
       "      <td>Auto</td>\n",
       "      <td>No</td>\n",
       "      <td>1</td>\n",
       "    </tr>\n",
       "    <tr>\n",
       "      <th>3</th>\n",
       "      <td>High School</td>\n",
       "      <td>Full-time</td>\n",
       "      <td>Married</td>\n",
       "      <td>No</td>\n",
       "      <td>No</td>\n",
       "      <td>Business</td>\n",
       "      <td>No</td>\n",
       "      <td>0</td>\n",
       "    </tr>\n",
       "    <tr>\n",
       "      <th>4</th>\n",
       "      <td>Bachelor's</td>\n",
       "      <td>Unemployed</td>\n",
       "      <td>Divorced</td>\n",
       "      <td>No</td>\n",
       "      <td>Yes</td>\n",
       "      <td>Auto</td>\n",
       "      <td>No</td>\n",
       "      <td>0</td>\n",
       "    </tr>\n",
       "  </tbody>\n",
       "</table>\n",
       "</div>"
      ],
      "text/plain": [
       "     Education EmploymentType MaritalStatus HasMortgage HasDependents  \\\n",
       "0   Bachelor's      Full-time      Divorced         Yes           Yes   \n",
       "1     Master's      Full-time       Married          No            No   \n",
       "2     Master's     Unemployed      Divorced         Yes           Yes   \n",
       "3  High School      Full-time       Married          No            No   \n",
       "4   Bachelor's     Unemployed      Divorced          No           Yes   \n",
       "\n",
       "  LoanPurpose HasCoSigner  Default  \n",
       "0       Other         Yes        0  \n",
       "1       Other         Yes        0  \n",
       "2        Auto          No        1  \n",
       "3    Business          No        0  \n",
       "4        Auto          No        0  "
      ]
     },
     "execution_count": 62,
     "metadata": {},
     "output_type": "execute_result"
    }
   ],
   "source": [
    "train_categorical.head()"
   ]
  },
  {
   "cell_type": "code",
   "execution_count": 65,
   "metadata": {},
   "outputs": [
    {
     "ename": "KeyError",
     "evalue": "\"['InterestRate_grp_le'] not found in axis\"",
     "output_type": "error",
     "traceback": [
      "\u001b[0;31m---------------------------------------------------------------------------\u001b[0m",
      "\u001b[0;31mKeyError\u001b[0m                                  Traceback (most recent call last)",
      "\u001b[0;32m<ipython-input-65-ce1b3424bb2c>\u001b[0m in \u001b[0;36m<module>\u001b[0;34m\u001b[0m\n\u001b[1;32m     25\u001b[0m \u001b[0;34m\u001b[0m\u001b[0m\n\u001b[1;32m     26\u001b[0m \u001b[0mtest_categorical_final\u001b[0m \u001b[0;34m=\u001b[0m \u001b[0mpd\u001b[0m\u001b[0;34m.\u001b[0m\u001b[0mconcat\u001b[0m\u001b[0;34m(\u001b[0m\u001b[0;34m[\u001b[0m\u001b[0mtest_categorical_label\u001b[0m\u001b[0;34m,\u001b[0m\u001b[0mtest_categorical_onehot\u001b[0m\u001b[0;34m]\u001b[0m\u001b[0;34m,\u001b[0m \u001b[0maxis\u001b[0m \u001b[0;34m=\u001b[0m \u001b[0;36m1\u001b[0m\u001b[0;34m)\u001b[0m\u001b[0;34m\u001b[0m\u001b[0;34m\u001b[0m\u001b[0m\n\u001b[0;32m---> 27\u001b[0;31m \u001b[0mtest_categorical_final\u001b[0m \u001b[0;34m=\u001b[0m \u001b[0mtest_categorical_final\u001b[0m\u001b[0;34m.\u001b[0m\u001b[0mdrop\u001b[0m\u001b[0;34m(\u001b[0m\u001b[0;34m[\u001b[0m\u001b[0;34m'InterestRate_grp_le'\u001b[0m\u001b[0;34m]\u001b[0m\u001b[0;34m,\u001b[0m \u001b[0maxis\u001b[0m \u001b[0;34m=\u001b[0m \u001b[0;36m1\u001b[0m\u001b[0;34m)\u001b[0m\u001b[0;34m\u001b[0m\u001b[0;34m\u001b[0m\u001b[0m\n\u001b[0m",
      "\u001b[0;32m/opt/conda/lib/python3.7/site-packages/pandas/core/frame.py\u001b[0m in \u001b[0;36mdrop\u001b[0;34m(self, labels, axis, index, columns, level, inplace, errors)\u001b[0m\n\u001b[1;32m   3995\u001b[0m             \u001b[0mlevel\u001b[0m\u001b[0;34m=\u001b[0m\u001b[0mlevel\u001b[0m\u001b[0;34m,\u001b[0m\u001b[0;34m\u001b[0m\u001b[0;34m\u001b[0m\u001b[0m\n\u001b[1;32m   3996\u001b[0m             \u001b[0minplace\u001b[0m\u001b[0;34m=\u001b[0m\u001b[0minplace\u001b[0m\u001b[0;34m,\u001b[0m\u001b[0;34m\u001b[0m\u001b[0;34m\u001b[0m\u001b[0m\n\u001b[0;32m-> 3997\u001b[0;31m             \u001b[0merrors\u001b[0m\u001b[0;34m=\u001b[0m\u001b[0merrors\u001b[0m\u001b[0;34m,\u001b[0m\u001b[0;34m\u001b[0m\u001b[0;34m\u001b[0m\u001b[0m\n\u001b[0m\u001b[1;32m   3998\u001b[0m         )\n\u001b[1;32m   3999\u001b[0m \u001b[0;34m\u001b[0m\u001b[0m\n",
      "\u001b[0;32m/opt/conda/lib/python3.7/site-packages/pandas/core/generic.py\u001b[0m in \u001b[0;36mdrop\u001b[0;34m(self, labels, axis, index, columns, level, inplace, errors)\u001b[0m\n\u001b[1;32m   3934\u001b[0m         \u001b[0;32mfor\u001b[0m \u001b[0maxis\u001b[0m\u001b[0;34m,\u001b[0m \u001b[0mlabels\u001b[0m \u001b[0;32min\u001b[0m \u001b[0maxes\u001b[0m\u001b[0;34m.\u001b[0m\u001b[0mitems\u001b[0m\u001b[0;34m(\u001b[0m\u001b[0;34m)\u001b[0m\u001b[0;34m:\u001b[0m\u001b[0;34m\u001b[0m\u001b[0;34m\u001b[0m\u001b[0m\n\u001b[1;32m   3935\u001b[0m             \u001b[0;32mif\u001b[0m \u001b[0mlabels\u001b[0m \u001b[0;32mis\u001b[0m \u001b[0;32mnot\u001b[0m \u001b[0;32mNone\u001b[0m\u001b[0;34m:\u001b[0m\u001b[0;34m\u001b[0m\u001b[0;34m\u001b[0m\u001b[0m\n\u001b[0;32m-> 3936\u001b[0;31m                 \u001b[0mobj\u001b[0m \u001b[0;34m=\u001b[0m \u001b[0mobj\u001b[0m\u001b[0;34m.\u001b[0m\u001b[0m_drop_axis\u001b[0m\u001b[0;34m(\u001b[0m\u001b[0mlabels\u001b[0m\u001b[0;34m,\u001b[0m \u001b[0maxis\u001b[0m\u001b[0;34m,\u001b[0m \u001b[0mlevel\u001b[0m\u001b[0;34m=\u001b[0m\u001b[0mlevel\u001b[0m\u001b[0;34m,\u001b[0m \u001b[0merrors\u001b[0m\u001b[0;34m=\u001b[0m\u001b[0merrors\u001b[0m\u001b[0;34m)\u001b[0m\u001b[0;34m\u001b[0m\u001b[0;34m\u001b[0m\u001b[0m\n\u001b[0m\u001b[1;32m   3937\u001b[0m \u001b[0;34m\u001b[0m\u001b[0m\n\u001b[1;32m   3938\u001b[0m         \u001b[0;32mif\u001b[0m \u001b[0minplace\u001b[0m\u001b[0;34m:\u001b[0m\u001b[0;34m\u001b[0m\u001b[0;34m\u001b[0m\u001b[0m\n",
      "\u001b[0;32m/opt/conda/lib/python3.7/site-packages/pandas/core/generic.py\u001b[0m in \u001b[0;36m_drop_axis\u001b[0;34m(self, labels, axis, level, errors)\u001b[0m\n\u001b[1;32m   3968\u001b[0m                 \u001b[0mnew_axis\u001b[0m \u001b[0;34m=\u001b[0m \u001b[0maxis\u001b[0m\u001b[0;34m.\u001b[0m\u001b[0mdrop\u001b[0m\u001b[0;34m(\u001b[0m\u001b[0mlabels\u001b[0m\u001b[0;34m,\u001b[0m \u001b[0mlevel\u001b[0m\u001b[0;34m=\u001b[0m\u001b[0mlevel\u001b[0m\u001b[0;34m,\u001b[0m \u001b[0merrors\u001b[0m\u001b[0;34m=\u001b[0m\u001b[0merrors\u001b[0m\u001b[0;34m)\u001b[0m\u001b[0;34m\u001b[0m\u001b[0;34m\u001b[0m\u001b[0m\n\u001b[1;32m   3969\u001b[0m             \u001b[0;32melse\u001b[0m\u001b[0;34m:\u001b[0m\u001b[0;34m\u001b[0m\u001b[0;34m\u001b[0m\u001b[0m\n\u001b[0;32m-> 3970\u001b[0;31m                 \u001b[0mnew_axis\u001b[0m \u001b[0;34m=\u001b[0m \u001b[0maxis\u001b[0m\u001b[0;34m.\u001b[0m\u001b[0mdrop\u001b[0m\u001b[0;34m(\u001b[0m\u001b[0mlabels\u001b[0m\u001b[0;34m,\u001b[0m \u001b[0merrors\u001b[0m\u001b[0;34m=\u001b[0m\u001b[0merrors\u001b[0m\u001b[0;34m)\u001b[0m\u001b[0;34m\u001b[0m\u001b[0;34m\u001b[0m\u001b[0m\n\u001b[0m\u001b[1;32m   3971\u001b[0m             \u001b[0mresult\u001b[0m \u001b[0;34m=\u001b[0m \u001b[0mself\u001b[0m\u001b[0;34m.\u001b[0m\u001b[0mreindex\u001b[0m\u001b[0;34m(\u001b[0m\u001b[0;34m**\u001b[0m\u001b[0;34m{\u001b[0m\u001b[0maxis_name\u001b[0m\u001b[0;34m:\u001b[0m \u001b[0mnew_axis\u001b[0m\u001b[0;34m}\u001b[0m\u001b[0;34m)\u001b[0m\u001b[0;34m\u001b[0m\u001b[0;34m\u001b[0m\u001b[0m\n\u001b[1;32m   3972\u001b[0m \u001b[0;34m\u001b[0m\u001b[0m\n",
      "\u001b[0;32m/opt/conda/lib/python3.7/site-packages/pandas/core/indexes/base.py\u001b[0m in \u001b[0;36mdrop\u001b[0;34m(self, labels, errors)\u001b[0m\n\u001b[1;32m   5015\u001b[0m         \u001b[0;32mif\u001b[0m \u001b[0mmask\u001b[0m\u001b[0;34m.\u001b[0m\u001b[0many\u001b[0m\u001b[0;34m(\u001b[0m\u001b[0;34m)\u001b[0m\u001b[0;34m:\u001b[0m\u001b[0;34m\u001b[0m\u001b[0;34m\u001b[0m\u001b[0m\n\u001b[1;32m   5016\u001b[0m             \u001b[0;32mif\u001b[0m \u001b[0merrors\u001b[0m \u001b[0;34m!=\u001b[0m \u001b[0;34m\"ignore\"\u001b[0m\u001b[0;34m:\u001b[0m\u001b[0;34m\u001b[0m\u001b[0;34m\u001b[0m\u001b[0m\n\u001b[0;32m-> 5017\u001b[0;31m                 \u001b[0;32mraise\u001b[0m \u001b[0mKeyError\u001b[0m\u001b[0;34m(\u001b[0m\u001b[0;34mf\"{labels[mask]} not found in axis\"\u001b[0m\u001b[0;34m)\u001b[0m\u001b[0;34m\u001b[0m\u001b[0;34m\u001b[0m\u001b[0m\n\u001b[0m\u001b[1;32m   5018\u001b[0m             \u001b[0mindexer\u001b[0m \u001b[0;34m=\u001b[0m \u001b[0mindexer\u001b[0m\u001b[0;34m[\u001b[0m\u001b[0;34m~\u001b[0m\u001b[0mmask\u001b[0m\u001b[0;34m]\u001b[0m\u001b[0;34m\u001b[0m\u001b[0;34m\u001b[0m\u001b[0m\n\u001b[1;32m   5019\u001b[0m         \u001b[0;32mreturn\u001b[0m \u001b[0mself\u001b[0m\u001b[0;34m.\u001b[0m\u001b[0mdelete\u001b[0m\u001b[0;34m(\u001b[0m\u001b[0mindexer\u001b[0m\u001b[0;34m)\u001b[0m\u001b[0;34m\u001b[0m\u001b[0;34m\u001b[0m\u001b[0m\n",
      "\u001b[0;31mKeyError\u001b[0m: \"['InterestRate_grp_le'] not found in axis\""
     ]
    }
   ],
   "source": [
    "train_categorical_label = train_categorical.drop(['HasMortgage','HasDependents','HasCoSigner','Default'],axis = 1)\n",
    "train_categorical_onehot = train_categorical[['HasMortgage','HasDependents','HasCoSigner']]\n",
    "train_categorical_onehot\n",
    "\n",
    "test_categorical_label = test_categorical.drop(['HasMortgage','HasDependents','HasCoSigner'],axis = 1)\n",
    "test_categorical_onehot = test_categorical[['HasMortgage','HasDependents','HasCoSigner']]\n",
    "\n",
    "\n",
    "def update_cate_label(df):\n",
    "    \n",
    "    for column in df.columns :\n",
    "        df[f'{column}_le'] = label_encode_columns(df, column)\n",
    "        df = df.drop([column],axis = 1)\n",
    "    return df\n",
    "train_categorical_label =update_cate_label(train_categorical_label)\n",
    "\n",
    "train_categorical_onehot =pd.get_dummies(train_categorical_onehot)\n",
    "\n",
    "train_categorical_final = pd.concat([train_categorical_label,train_categorical_onehot], axis = 1)\n",
    "train_categorical_final.head()\n",
    "\n",
    "test_categorical_label =update_cate_label(test_categorical_label)\n",
    "\n",
    "test_categorical_onehot =pd.get_dummies(test_categorical_onehot)\n",
    "\n",
    "test_categorical_final = pd.concat([test_categorical_label,test_categorical_onehot], axis = 1)\n"
   ]
  },
  {
   "cell_type": "code",
   "execution_count": 67,
   "metadata": {},
   "outputs": [
    {
     "name": "stdout",
     "output_type": "stream",
     "text": [
      "<class 'pandas.core.frame.DataFrame'>\n",
      "RangeIndex: 255347 entries, 0 to 255346\n",
      "Data columns (total 25 columns):\n",
      " #   Column                 Non-Null Count   Dtype  \n",
      "---  ------                 --------------   -----  \n",
      " 0   Default                255347 non-null  int64  \n",
      " 1   DTIRatio_grp_le        255347 non-null  int64  \n",
      " 2   Age_grp_le             255347 non-null  int64  \n",
      " 3   income_grp_le          255347 non-null  int64  \n",
      " 4   LoanAmount_grp_le      255347 non-null  int64  \n",
      " 5   CreditScore_grp_le     255347 non-null  int64  \n",
      " 6   MonthsEmployed_grp_le  255347 non-null  int64  \n",
      " 7   Age                    255347 non-null  float64\n",
      " 8   Income                 255347 non-null  float64\n",
      " 9   CreditScore            255347 non-null  float64\n",
      " 10  MonthsEmployed         255347 non-null  float64\n",
      " 11  NumCreditLines         255347 non-null  float64\n",
      " 12  DTIRatio               255347 non-null  float64\n",
      " 13  interests              255347 non-null  float64\n",
      " 14  interests_le           255347 non-null  int64  \n",
      " 15  Education_le           255347 non-null  int64  \n",
      " 16  EmploymentType_le      255347 non-null  int64  \n",
      " 17  MaritalStatus_le       255347 non-null  int64  \n",
      " 18  LoanPurpose_le         255347 non-null  int64  \n",
      " 19  HasMortgage_No         255347 non-null  uint8  \n",
      " 20  HasMortgage_Yes        255347 non-null  uint8  \n",
      " 21  HasDependents_No       255347 non-null  uint8  \n",
      " 22  HasDependents_Yes      255347 non-null  uint8  \n",
      " 23  HasCoSigner_No         255347 non-null  uint8  \n",
      " 24  HasCoSigner_Yes        255347 non-null  uint8  \n",
      "dtypes: float64(7), int64(12), uint8(6)\n",
      "memory usage: 38.5 MB\n",
      "None\n",
      "<class 'pandas.core.frame.DataFrame'>\n",
      "RangeIndex: 109435 entries, 0 to 109434\n",
      "Data columns (total 24 columns):\n",
      " #   Column                 Non-Null Count   Dtype  \n",
      "---  ------                 --------------   -----  \n",
      " 0   DTIRatio_grp_le        109435 non-null  int64  \n",
      " 1   Age_grp_le             109435 non-null  int64  \n",
      " 2   income_grp_le          109435 non-null  int64  \n",
      " 3   LoanAmount_grp_le      109435 non-null  int64  \n",
      " 4   CreditScore_grp_le     109435 non-null  int64  \n",
      " 5   MonthsEmployed_grp_le  109435 non-null  int64  \n",
      " 6   InterestRate_grp_le    109435 non-null  int64  \n",
      " 7   Age                    109435 non-null  float64\n",
      " 8   Income                 109435 non-null  float64\n",
      " 9   CreditScore            109435 non-null  float64\n",
      " 10  MonthsEmployed         109435 non-null  float64\n",
      " 11  NumCreditLines         109435 non-null  float64\n",
      " 12  DTIRatio               109435 non-null  float64\n",
      " 13  interests              109435 non-null  float64\n",
      " 14  Education_le           109435 non-null  int64  \n",
      " 15  EmploymentType_le      109435 non-null  int64  \n",
      " 16  MaritalStatus_le       109435 non-null  int64  \n",
      " 17  LoanPurpose_le         109435 non-null  int64  \n",
      " 18  HasMortgage_No         109435 non-null  uint8  \n",
      " 19  HasMortgage_Yes        109435 non-null  uint8  \n",
      " 20  HasDependents_No       109435 non-null  uint8  \n",
      " 21  HasDependents_Yes      109435 non-null  uint8  \n",
      " 22  HasCoSigner_No         109435 non-null  uint8  \n",
      " 23  HasCoSigner_Yes        109435 non-null  uint8  \n",
      "dtypes: float64(7), int64(11), uint8(6)\n",
      "memory usage: 15.7 MB\n"
     ]
    }
   ],
   "source": [
    "train_df_final = pd.concat([train_numerical, train_categorical_final], axis = 1)\n",
    "train_df_final = train_df_final.drop(['InterestRate_grp_le'], axis = 1)\n",
    "print(train_df_final.info())\n",
    "\n",
    "test_df_final = pd.concat([test_numerical, test_categorical_final], axis = 1)\n",
    "test_df_final.info()\n"
   ]
  },
  {
   "cell_type": "markdown",
   "metadata": {},
   "source": [
    "### Example prediction submission:\n",
    "\n",
    "The code below is a very naive prediction method that simply predicts loan defaults using a Dummy Classifier. This is used as just an example showing the submission format required. Please change/alter/delete this code below and create your own improved prediction methods for generating `prediction_df`."
   ]
  },
  {
   "cell_type": "code",
   "execution_count": 68,
   "metadata": {},
   "outputs": [],
   "source": [
    "from xgboost import XGBClassifier\n",
    "from sklearn.model_selection import train_test_split, StratifiedKFold, GridSearchCV\n",
    "from sklearn. metrics import classification_report, roc_auc_score, roc_curve\n",
    "\n",
    "X = train_df_final.drop(['Default'], axis = 1)\n",
    "y = train_df_final['Default']\n",
    "\n",
    "x_train, x_test, y_train, y_test = train_test_split(X,y, stratify = y, test_size = 0.3, random_state =42)\n"
   ]
  },
  {
   "cell_type": "code",
   "execution_count": 69,
   "metadata": {},
   "outputs": [
    {
     "data": {
      "text/plain": [
       "XGBClassifier(base_score=0.5, booster='gbtree', callbacks=None,\n",
       "              colsample_bylevel=1, colsample_bynode=1, colsample_bytree=1,\n",
       "              early_stopping_rounds=None, enable_categorical=False,\n",
       "              eval_metric='logloss', gamma=0, gpu_id=-1,\n",
       "              grow_policy='depthwise', importance_type=None,\n",
       "              interaction_constraints='', learning_rate=0.300000012,\n",
       "              max_bin=256, max_cat_to_onehot=4, max_delta_step=0, max_depth=6,\n",
       "              max_leaves=0, min_child_weight=1, missing=nan,\n",
       "              monotone_constraints='()', n_estimators=100, n_jobs=0,\n",
       "              num_parallel_tree=1, objective='binary:logistic',\n",
       "              predictor='auto', random_state=42, reg_alpha=0, ...)"
      ]
     },
     "execution_count": 69,
     "metadata": {},
     "output_type": "execute_result"
    }
   ],
   "source": [
    "scale = (y == 0).sum() / (y == 1).sum()\n",
    "\n",
    "xgb_model = XGBClassifier(use_label_encoder=False,\n",
    "    eval_metric='logloss',\n",
    "    scale_pos_weight=scale,  # key line\n",
    "    random_state=42)\n",
    "xgb_model.fit(x_train,y_train)"
   ]
  },
  {
   "cell_type": "code",
   "execution_count": 70,
   "metadata": {},
   "outputs": [
    {
     "data": {
      "text/plain": [
       "array([0.10652001, 0.14300826, 0.4404218 , ..., 0.30741796, 0.73358655,\n",
       "       0.20698872], dtype=float32)"
      ]
     },
     "execution_count": 70,
     "metadata": {},
     "output_type": "execute_result"
    }
   ],
   "source": [
    "y_pred_proba = xgb_model.predict_proba(x_test)[:,1]\n",
    "y_pred = xgb_model.predict(x_test)\n",
    "y_pred_proba"
   ]
  },
  {
   "cell_type": "code",
   "execution_count": 71,
   "metadata": {},
   "outputs": [
    {
     "name": "stdout",
     "output_type": "stream",
     "text": [
      "Classification Report\n",
      "              precision    recall  f1-score   support\n",
      "\n",
      "           0       0.94      0.73      0.82     67709\n",
      "           1       0.23      0.62      0.34      8896\n",
      "\n",
      "    accuracy                           0.72     76605\n",
      "   macro avg       0.58      0.68      0.58     76605\n",
      "weighted avg       0.85      0.72      0.76     76605\n",
      "\n"
     ]
    }
   ],
   "source": [
    "print('Classification Report')\n",
    "print(classification_report(y_test,y_pred))\n"
   ]
  },
  {
   "cell_type": "code",
   "execution_count": 72,
   "metadata": {},
   "outputs": [
    {
     "name": "stdout",
     "output_type": "stream",
     "text": [
      "ROC AUC Score:  0.6763\n"
     ]
    }
   ],
   "source": [
    "roc_auc = roc_auc_score(y_test, y_pred)\n",
    "print(f'ROC AUC Score: {roc_auc: .4f}')"
   ]
  },
  {
   "cell_type": "code",
   "execution_count": 73,
   "metadata": {},
   "outputs": [
    {
     "data": {
      "image/png": "[encoded data removed]",
      "text/plain": [
       "<Figure size 432x288 with 1 Axes>"
      ]
     },
     "metadata": {
      "needs_background": "light"
     },
     "output_type": "display_data"
    }
   ],
   "source": [
    "# Plot ROC Curve\n",
    "fpr, tpr, thresholds = roc_curve(y_test, y_pred_proba)\n",
    "plt.plot(fpr, tpr, label=f'XGBoost (AUC = {roc_auc:.4f})', linewidth=2)\n",
    "plt.plot([0, 1], [0, 1], 'k--')\n",
    "plt.xlabel(\"False Positive Rate\")\n",
    "plt.ylabel(\"True Positive Rate\")\n",
    "plt.title(\"ROC Curve\")\n",
    "plt.legend()\n",
    "plt.grid(True)\n",
    "plt.show()"
   ]
  },
  {
   "cell_type": "code",
   "execution_count": 74,
   "metadata": {},
   "outputs": [
    {
     "name": "stdout",
     "output_type": "stream",
     "text": [
      "0    0.883872\n",
      "1    0.116128\n",
      "Name: Default, dtype: float64\n"
     ]
    }
   ],
   "source": [
    "predicted_probailites = xgb_model.predict_proba(test_df_final)[:,1]\n",
    "print(y.value_counts(normalize=True))"
   ]
  },
  {
   "cell_type": "markdown",
   "metadata": {},
   "source": [
    "**PLEASE CHANGE CODE BELOW TO IMPLEMENT YOUR OWN PREDICTIONS**"
   ]
  },
  {
   "cell_type": "code",
   "execution_count": 75,
   "metadata": {},
   "outputs": [
    {
     "data": {
      "text/plain": [
       "DummyClassifier(constant=None, random_state=None, strategy='stratified')"
      ]
     },
     "execution_count": 75,
     "metadata": {},
     "output_type": "execute_result"
    }
   ],
   "source": [
    "### PLEASE CHANGE THIS CODE TO IMPLEMENT YOUR OWN PREDICTIONS\n",
    "\n",
    "# Fit a dummy classifier on the feature columns in train_df:\n",
    "dummy_clf = DummyClassifier(strategy=\"stratified\")\n",
    "dummy_clf.fit(train_df.drop(['LoanID', 'Default'], axis=1), train_df.Default)"
   ]
  },
  {
   "cell_type": "code",
   "execution_count": 76,
   "metadata": {},
   "outputs": [],
   "source": [
    "### PLEASE CHANGE THIS CODE TO IMPLEMENT YOUR OWN PREDICTIONS\n",
    "\n",
    "# Use our dummy classifier to make predictions on test_df using `predict_proba` method:\n",
    "predicted_probability = dummy_clf.predict_proba(test_df.drop(['LoanID'], axis=1))[:, 1]"
   ]
  },
  {
   "cell_type": "code",
   "execution_count": 77,
   "metadata": {},
   "outputs": [],
   "source": [
    "### PLEASE CHANGE THIS CODE TO IMPLEMENT YOUR OWN PREDICTIONS\n",
    "\n",
    "# Combine predictions with label column into a dataframe\n",
    "prediction_df = pd.DataFrame({'LoanID': test_df[['LoanID']].values[:, 0],\n",
    "                             'predicted_probability': predicted_probailites})"
   ]
  },
  {
   "cell_type": "code",
   "execution_count": 78,
   "metadata": {},
   "outputs": [
    {
     "name": "stdout",
     "output_type": "stream",
     "text": [
      "(109435, 2)\n"
     ]
    },
    {
     "data": {
      "text/html": [
       "<div>\n",
       "<style scoped>\n",
       "    .dataframe tbody tr th:only-of-type {\n",
       "        vertical-align: middle;\n",
       "    }\n",
       "\n",
       "    .dataframe tbody tr th {\n",
       "        vertical-align: top;\n",
       "    }\n",
       "\n",
       "    .dataframe thead th {\n",
       "        text-align: right;\n",
       "    }\n",
       "</style>\n",
       "<table border=\"1\" class=\"dataframe\">\n",
       "  <thead>\n",
       "    <tr style=\"text-align: right;\">\n",
       "      <th></th>\n",
       "      <th>LoanID</th>\n",
       "      <th>predicted_probability</th>\n",
       "    </tr>\n",
       "  </thead>\n",
       "  <tbody>\n",
       "    <tr>\n",
       "      <th>0</th>\n",
       "      <td>7RYZGMKJIR</td>\n",
       "      <td>0.019129</td>\n",
       "    </tr>\n",
       "    <tr>\n",
       "      <th>1</th>\n",
       "      <td>JDL5RH07AM</td>\n",
       "      <td>0.538572</td>\n",
       "    </tr>\n",
       "    <tr>\n",
       "      <th>2</th>\n",
       "      <td>STAL716Y79</td>\n",
       "      <td>0.131645</td>\n",
       "    </tr>\n",
       "    <tr>\n",
       "      <th>3</th>\n",
       "      <td>SO0KKJ3IQB</td>\n",
       "      <td>0.719515</td>\n",
       "    </tr>\n",
       "    <tr>\n",
       "      <th>4</th>\n",
       "      <td>T99CWTYDCP</td>\n",
       "      <td>0.350909</td>\n",
       "    </tr>\n",
       "    <tr>\n",
       "      <th>5</th>\n",
       "      <td>0SNHFWV4UP</td>\n",
       "      <td>0.163663</td>\n",
       "    </tr>\n",
       "    <tr>\n",
       "      <th>6</th>\n",
       "      <td>S6ITP6LGYS</td>\n",
       "      <td>0.414686</td>\n",
       "    </tr>\n",
       "    <tr>\n",
       "      <th>7</th>\n",
       "      <td>A6I7U12IRJ</td>\n",
       "      <td>0.421990</td>\n",
       "    </tr>\n",
       "    <tr>\n",
       "      <th>8</th>\n",
       "      <td>8W6KY50JU4</td>\n",
       "      <td>0.229889</td>\n",
       "    </tr>\n",
       "    <tr>\n",
       "      <th>9</th>\n",
       "      <td>THFQ08OLMU</td>\n",
       "      <td>0.356253</td>\n",
       "    </tr>\n",
       "  </tbody>\n",
       "</table>\n",
       "</div>"
      ],
      "text/plain": [
       "       LoanID  predicted_probability\n",
       "0  7RYZGMKJIR               0.019129\n",
       "1  JDL5RH07AM               0.538572\n",
       "2  STAL716Y79               0.131645\n",
       "3  SO0KKJ3IQB               0.719515\n",
       "4  T99CWTYDCP               0.350909\n",
       "5  0SNHFWV4UP               0.163663\n",
       "6  S6ITP6LGYS               0.414686\n",
       "7  A6I7U12IRJ               0.421990\n",
       "8  8W6KY50JU4               0.229889\n",
       "9  THFQ08OLMU               0.356253"
      ]
     },
     "execution_count": 78,
     "metadata": {},
     "output_type": "execute_result"
    }
   ],
   "source": [
    "### PLEASE CHANGE THIS CODE TO IMPLEMENT YOUR OWN PREDICTIONS\n",
    "\n",
    "# View our 'prediction_df' dataframe as required for submission.\n",
    "# Ensure it should contain 104,480 rows and 2 columns 'CustomerID' and 'predicted_probaility'\n",
    "print(prediction_df.shape)\n",
    "prediction_df.head(10)"
   ]
  },
  {
   "cell_type": "markdown",
   "metadata": {},
   "source": [
    "**PLEASE CHANGE CODE ABOVE TO IMPLEMENT YOUR OWN PREDICTIONS**"
   ]
  },
  {
   "cell_type": "markdown",
   "metadata": {},
   "source": [
    "## Final Tests - **IMPORTANT** - the cells below must be run prior to submission\n",
    "\n",
    "Below are some tests to ensure your submission is in the correct format for autograding. The autograding process accepts a csv `prediction_submission.csv` which we will generate from our `prediction_df` below. Please run the tests below an ensure no assertion errors are thrown."
   ]
  },
  {
   "cell_type": "code",
   "execution_count": 79,
   "metadata": {},
   "outputs": [],
   "source": [
    "# FINAL TEST CELLS - please make sure all of your code is above these test cells\n",
    "\n",
    "# Writing to csv for autograding purposes\n",
    "prediction_df.to_csv(\"prediction_submission.csv\", index=False)\n",
    "submission = pd.read_csv(\"prediction_submission.csv\")\n",
    "\n",
    "assert isinstance(submission, pd.DataFrame), 'You should have a dataframe named prediction_df.'"
   ]
  },
  {
   "cell_type": "code",
   "execution_count": 80,
   "metadata": {},
   "outputs": [],
   "source": [
    "# FINAL TEST CELLS - please make sure all of your code is above these test cells\n",
    "\n",
    "assert submission.columns[0] == 'LoanID', 'The first column name should be CustomerID.'\n",
    "assert submission.columns[1] == 'predicted_probability', 'The second column name should be predicted_probability.'"
   ]
  },
  {
   "cell_type": "code",
   "execution_count": 81,
   "metadata": {},
   "outputs": [],
   "source": [
    "# FINAL TEST CELLS - please make sure all of your code is above these test cells\n",
    "\n",
    "assert submission.shape[0] == 109435, 'The dataframe prediction_df should have 109435 rows.'"
   ]
  },
  {
   "cell_type": "code",
   "execution_count": 82,
   "metadata": {},
   "outputs": [],
   "source": [
    "# FINAL TEST CELLS - please make sure all of your code is above these test cells\n",
    "\n",
    "assert submission.shape[1] == 2, 'The dataframe prediction_df should have 2 columns.'"
   ]
  },
  {
   "cell_type": "code",
   "execution_count": 83,
   "metadata": {},
   "outputs": [],
   "source": [
    "# FINAL TEST CELLS - please make sure all of your code is above these test cells\n",
    "\n",
    "## This cell calculates the auc score and is hidden. Submit Assignment to see AUC score."
   ]
  },
  {
   "cell_type": "markdown",
   "metadata": {},
   "source": [
    "## SUBMIT YOUR WORK!\n",
    "\n",
    "Once we are happy with our `prediction_df` and `prediction_submission.csv` we can now submit for autograding! Submit by using the blue **Submit Assignment** at the top of your notebook. Don't worry if your initial submission isn't perfect as you have multiple submission attempts and will obtain some feedback after each submission!"
   ]
  },
  {
   "cell_type": "code",
   "execution_count": null,
   "metadata": {},
   "outputs": [],
   "source": []
  }
 ],
 "metadata": {
  "kernelspec": {
   "display_name": "Python 3",
   "language": "python",
   "name": "python3"
  },
  "language_info": {
   "codemirror_mode": {
    "name": "ipython",
    "version": 3
   },
   "file_extension": ".py",
   "mimetype": "text/x-python",
   "name": "python",
   "nbconvert_exporter": "python",
   "pygments_lexer": "ipython3",
   "version": "3.7.6"
  }
 },
 "nbformat": 4,
 "nbformat_minor": 4
}
